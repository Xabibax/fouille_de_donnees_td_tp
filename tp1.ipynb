{
 "cells": [
  {
   "cell_type": "markdown",
   "source": [
    "# TP 1 : Introduction aux librairies Python pour la fouille de données <br/> Numpy, pandas\n",
    "\n",
    "IMT Atlantique – FIL A3\n",
    "Apprentissage Automatique\n",
    "\n",
    "## Objectifs :\n",
    "NumPy et Pandas sont des bibliothèques logicielles très utiles dans la résolution de problèmes de\n",
    "modélisation à partir de données. Cette séance de TP vise à vous donner les connaissances de base\n",
    "nécessaires mais est loin de couvrir toutes les fonctionnalités de ces deux librairies. Pour aller plus\n",
    "loin, vous êtes invités à regarder les références en ligne indiquées ci-dessous.\n",
    "\n",
    "### Références utiles :\n",
    "— [Documentation NumPy](https://numpy.org/doc/stable/user/quickstart.html)\n",
    "— [Documentation Pandas](https://pandas.pydata.org/pandas-docs/stable/reference/index.html#api)\n",
    "— [Documentation Matplotlib](https://matplotlib.org)\n",
    "\n",
    "## 1 Anaconda\n",
    "\n",
    "### 1.1 Installation\n",
    "\n",
    "Anaconda est une distribution Python, faite pour la Data Science. Elle contient tous les pa-\n",
    "ckages dont nous aurons besoin : Matplotlib, NumPy, Pandas et le notebook Jupyter, que je vous\n",
    "conseille d’utiliser. La procédure d’installation est détaillée à l’URl https://docs.anaconda.com/\n",
    "anaconda/install/. Une fois l’installation terminée, il suffit de lancer le programme Jupyter :\n",
    "\n",
    "— Sous Linux Ubuntu, ouvrez une console et lancez la commande anaconda-navigator.\n",
    "— Sous Windows, lancez Anaconda Navigator en cliquant sur démarrer > (Programmes) >\n",
    "Anaconda > Anaconda Navigator.\n",
    "\n",
    "Une fois le navigateur Anaconda lancé, plusieurs applications vous sont proposées. Cliquez sur\n",
    "Jupyter :\n",
    "\n",
    "### 1.2 Créer un nouveau notebook\n",
    "\n",
    "A partir de la fenêtre principale de Jupyter, cliquez sur ”New” puis sur ”Python 3”, comme\n",
    "ceci :\n",
    "\n",
    "Votre navigateur devrait vous afficher le notebook créé dénommé Untitled. Les commandes\n",
    "Python doivent être tapées dans la case devant l’étiquette In [ ]. Vous pouvez taper plusieurs\n",
    "instructions à la fois. Vous pouvez aussi définir des fonctions. Les variables générées dans chaque\n",
    "case seront disponibles dans toutes le cases du notebook. Pour exécuter une série de commandes,\n",
    "il suffit d’appuyer sur Shift+Entree.\n",
    "\n",
    "### 2 Calcul avec NumPy\n",
    "\n",
    "NumPy est une bibliothèque de calcul scientifique dédié à la manipulation de matrices et de\n",
    "tableaux en multiple dimensions. Les tableaux NumPy sont au cœur de presque tout l’écosystème\n",
    "de data science en Python. L’utilisation de fonctionnalités de NumPy commence par l’importation\n",
    "de cette librairie"
   ],
   "metadata": {
    "collapsed": false,
    "pycharm": {
     "name": "#%% md\n"
    }
   }
  },
  {
   "cell_type": "code",
   "source": [
    "import numpy as np"
   ],
   "metadata": {
    "collapsed": false,
    "pycharm": {
     "name": "#%% code\n"
    }
   },
   "execution_count": 1,
   "outputs": []
  },
  {
   "cell_type": "markdown",
   "source": [
    "Le type de base dans NumPy est le tableau unidimensionnel ou multidimensionnel composé\n",
    "d’éléments de même type. La classe correspondante est ndarray. les Principaux attributs de\n",
    "ndarray sont :\n",
    "\n",
    "    ndarray.ndim    | dimension du tableau (nombre d’axes)\n",
    "    ndarray.shape   | tuple d’entiers indiquant la taille dans chaque dimension\n",
    "    ndarray.size    | nombre total d’éléments du tableau\n",
    "    ndarray.dtype   | type de (tous) les éléments du tableau\n",
    "    ndarray.data    | les données du tableau\n",
    "\n",
    "### 2.1 Création de tableaux\n",
    "\n",
    "De nombreuses méthodes de création de tableaux sont disponibles. D’abord, un tableau peut\n",
    "être créé à partir d’une liste Python, à condition que tous les éléments soient de même type\n",
    "(le type des éléments du tableau est déduit automatiquement du type des éléments de la liste ou\n",
    "tuple)."
   ],
   "metadata": {
    "collapsed": false,
    "pycharm": {
     "name": "#%% md\n"
    }
   }
  },
  {
   "cell_type": "code",
   "execution_count": null,
   "outputs": [],
   "source": [
    "import numpy as np\n",
    "panda_numpy = np.array([100,5,20,80])\n",
    "print(panda_numpy)\n",
    "panda_numpy.dtype"
   ],
   "metadata": {
    "collapsed": false,
    "pycharm": {
     "name": "#%% code\n"
    }
   }
  },
  {
   "cell_type": "markdown",
   "source": [
    "Les listes sont transformées en simples tableaux unidimensionnels, les listes de listes (de même\n",
    "taille) en tableaux bidimensionnels, et ainsi de suite. L’exemple ci-dessous montre comment créer\n",
    "une liste de pandas :"
   ],
   "metadata": {
    "collapsed": false,
    "pycharm": {
     "name": "#%% md\n"
    }
   }
  },
  {
   "cell_type": "code",
   "execution_count": null,
   "outputs": [],
   "source": [
    "famille_panda = [\n",
    "[100, 5 , 20, 80], # maman panda\n",
    "[50 , 2.5, 10, 40], # bébé panda\n",
    "[110, 6 , 22, 80], # papa panda\n",
    "]\n",
    "famille_panda_numpy = np.array(famille_panda)\n",
    "print(famille_panda_numpy)\n",
    "famille_panda_numpy[2,0]"
   ],
   "metadata": {
    "collapsed": false,
    "pycharm": {
     "name": "#%% code\n"
    }
   }
  },
  {
   "cell_type": "markdown",
   "source": [
    "On accède aux éléments du tableau NumPy avec la même syntaxe que pour accéder aux éléments\n",
    "d’une liste Python. Pour un tableau multidimensionnel (par exemple, une matrice), il suffit d’in-\n",
    "diquer la liste des indices de l’élément recherché.\n",
    "\n",
    "## 2.1.1 Création de tableaux directement\n",
    "\n",
    "Plutôt que de spécifier manuellement toutes les valeurs du tableau, NumPy dispose de fonctions\n",
    "préintégrées pour générer des tableaux et des matrices courantes."
   ],
   "metadata": {
    "collapsed": false,
    "pycharm": {
     "name": "#%% md\n"
    }
   }
  },
  {
   "cell_type": "code",
   "execution_count": null,
   "outputs": [],
   "source": [
    "# Un tableau de longueur 10, rempli d’entiers qui valent 0\n",
    "np.zeros(10, dtype=int)\n",
    "# Un tableau de taille 3x5 rempli de nombres à virgule flottante de valeur 1\n",
    "np.ones((3, 5), dtype=float)\n",
    "# Un tableau 3x5 rempli de 3,14\n",
    "np.full((3, 5), 3.14)\n",
    "# Un tableau rempli d’une séquence linéaire commençant à 0 et qui se termine à 20, avec un pas de 2\n",
    "np.arange(0, 20, 2)\n",
    "# un tableau dont les éléments sont générés aléatoirement\n",
    "np.random.random((3, 3))\n",
    "# La matrice identité de taille 3x3\n",
    "np.eye(3)"
   ],
   "metadata": {
    "collapsed": false,
    "pycharm": {
     "name": "#%% code\n"
    }
   }
  },
  {
   "cell_type": "markdown",
   "source": [
    "Les tableaux peuvent être redimensionnés en utilisant reshape :"
   ],
   "metadata": {
    "collapsed": false,
    "pycharm": {
     "name": "#%% md\n"
    }
   }
  },
  {
   "cell_type": "code",
   "execution_count": null,
   "outputs": [],
   "source": [
    "tr = np.arange(20)\n",
    "print(tr)\n",
    "# Réordonne le tableau en une matrice à 4 lignes et 5 colonnes\n",
    "tr.reshape(4,5)"
   ],
   "metadata": {
    "collapsed": false,
    "pycharm": {
     "name": "#%% code\n"
    }
   }
  },
  {
   "cell_type": "markdown",
   "source": [
    "### 2.1.2 Accès aux composantes d’un tableau, extraction de parties d’un tableau\n",
    "Pour accéder à un ensemble d’éléments d’un tableau, il est possible de combiner les opérateurs\n",
    "[] et :. La syntaxe suit une règle simple : x[début:fin:pas]."
   ],
   "metadata": {
    "collapsed": false,
    "pycharm": {
     "name": "#%% md\n"
    }
   }
  },
  {
   "cell_type": "code",
   "execution_count": null,
   "outputs": [],
   "source": [
    "data = np.array([1, 2, 3])\n",
    "data[1]\n",
    "data[0:2]\n",
    "data[1:]\n",
    "data[-2:]"
   ],
   "metadata": {
    "collapsed": false,
    "pycharm": {
     "name": "#%% code\n"
    }
   }
  },
  {
   "cell_type": "markdown",
   "source": [
    "On peut procéder de la même façon pour les tableaux multidimensionnels :"
   ],
   "metadata": {
    "collapsed": false,
    "pycharm": {
     "name": "#%% md\n"
    }
   }
  },
  {
   "cell_type": "code",
   "execution_count": null,
   "outputs": [],
   "source": [
    "data = np.array([[1, 2], [3, 4], [5,6]])\n",
    "# Extraction de la première ligne\n",
    "print(data[0,:])\n",
    "# Extraction des deux premiers éléments de la colonne 1\n",
    "data[0:2, 0]"
   ],
   "metadata": {
    "collapsed": false,
    "pycharm": {
     "name": "#%% code\n"
    }
   }
  },
  {
   "cell_type": "markdown",
   "source": [
    "Question\n",
    "Faites l’extraction des colonnes d’indice impaire de famille panda numpy.\n",
    "Il est possible d’ajouter un tableau unidimensionnel comme colonne à un tableau bidimension-\n",
    "nel. newaxis permet de créer une nouvelle dimension dans un tableau existant :"
   ],
   "metadata": {
    "collapsed": false,
    "pycharm": {
     "name": "#%% md\n"
    }
   }
  },
  {
   "cell_type": "code",
   "execution_count": null,
   "outputs": [],
   "source": [
    "from numpy import newaxis\n",
    "print(data[:,newaxis])"
   ],
   "metadata": {
    "collapsed": false,
    "pycharm": {
     "name": "#%% code\n"
    }
   }
  },
  {
   "cell_type": "markdown",
   "source": [
    "### 3 Manipulation de données avec Pandas\n",
    "\n",
    "Avec NumPy, la librairie Pandas fait partie des librairies de base pour la data science en Python.\n",
    "Elle fournit des structures de données puissantes et simples à utiliser, ainsi que les moyens d’opérer\n",
    "rapidement des opérations sur ces structures. Dans cette section, nous nous intéresserons à l’objet\n",
    "phare de cette librairie, le DataFrame.\n",
    "\n",
    "Une DataFrame est une structure de données étiquetée en 2 dimensions avec des colonnes de\n",
    "types potentiellement différents. Elle permet de stocker et de manipuler des données tabulaires,\n",
    "telles que des données stockées dans des feuilles de calcul ou des bases de données.\n",
    "\n",
    "### 3.1 Instanciation d’un objet DataFrame\n",
    "\n",
    "Pour instancier un tel objet (et pour lui donner de la donnée), on lui transmet une liste de\n",
    "rang 2, c’est à dire une liste de listes. Comme la librairie Pandas se base en grande partie sur la\n",
    "librairie NumPy dans son fonctionnement interne, on peut alors transmettre à l’objet DataFrame de\n",
    "la donnée au format ndarray et même indiquer les noms de colonnes et les noms des lignes :"
   ],
   "metadata": {
    "collapsed": false,
    "pycharm": {
     "name": "#%% md\n"
    }
   }
  },
  {
   "cell_type": "code",
   "execution_count": null,
   "outputs": [],
   "source": [
    "import pandas as pd\n",
    "famille_panda_df = pd.DataFrame (famille_panda, index =['maman', 'bebe', 'papa'],\n",
    "columns = ['pattes', 'poil', 'queue', 'ventre'])\n",
    "famille_panda_df"
   ],
   "metadata": {
    "collapsed": false,
    "pycharm": {
     "name": "#%% code\n"
    }
   }
  },
  {
   "cell_type": "markdown",
   "source": [
    "Voici quelques petites fonctionnalités des Dataframes :\n",
    "\n",
    "#### 1. Pour accéder à une colonne de la table, il suffit d’utiliser une des deux syntaxes suivantes :\n",
    "\n",
    "— famille panda df.ventre\n",
    "— famille panda df[\"ventre\"]\n",
    "\n",
    "Note\n",
    "L’objet que renvoie famille panda df[\"ventre\"] est de type pandas.Series.\n",
    "Pour obtenir les valeurs de la colonne ventre au format numpy, il faut saisir\n",
    "famille panda df[\"ventre\"].values.\n",
    "\n",
    "#### 2. On peut accéder à une ligne de la table, soit par sa position, ou par par son nom :\n",
    "\n",
    "— famille panda df.loc[\"papa\"] à indexation par label\n",
    "— famille panda df.iloc[2] à indexation par position\n",
    "\n",
    "##### Question\n",
    "\n",
    "Faites l’extraction des colonnes pattes et queue.\n",
    "\n",
    "#### 3. Les fonctions tail et head permettent d’afficher respectivement les premier et les derniers éléments du DataFrame :\n",
    "\n",
    "— famille panda df.head(1)\n",
    "— famille panda df.tail(2)\n",
    "\n",
    "#### 4. Les fonctions ci-dessous permettent d’accéder à certaines informations utiles du DataFrame :\n",
    "\n",
    "— famille panda df.columns : les noms des colonnes,\n",
    "— famille panda df.columns.values : le nom des colonnes sous forme d’array numpy,\n",
    "— famille panda df.index : les noms des lignes (individus),\n",
    "— famille panda df.index.values : les noms des lignes (individus) sous forme d’array\n",
    "nympy,\n",
    "— famille panda df.values : les noms des lignes (individus) : pour récupérer le dataframe sous forme d’array numpy 2d,\n",
    "— famille panda df.describe : renvoie un dataframe donnant des statistiques sur les valeurs (nombres de valeurs, moyenne, écart-type, ...), mais uniquement sur les colonnesnumériques (faire famille panda df.describe(include = ’all’) pour avoir toutes\n",
    "les colonnes).\n",
    "\n",
    "#### 5. Dimension d’un dataframe :\n",
    "\n",
    "— famille panda.shape : renvoie la dimension du dataframe sous forme (nombre de lignes, nombre de colonnes),\n",
    "— len(famille panda) : renvoie le nombre de lignes,\n",
    "— len(famille panda.colums) : renvoie le nombre de colonnes.\n",
    "\n",
    "### 3.2 Sélection de lignes/colonnes spécifiques à partir d’un DataFrame\n",
    "\n",
    "Il est possible de parcourir les éléments d’un DataFrame, grâce à la méthode iterrows qui\n",
    "renvoie (à chaque itération d’une boucle for) un tuple dont le premier élément est l’index de la\n",
    "ligne, et le second le contenu de la ligne en question.\n",
    "\n",
    "##### Question\n",
    "\n",
    "Écrivez une boucle for permettant d’afficher les pandas un à un.\n",
    "\n",
    "Pour sélectionner des lignes en fonction d’une expression conditionnelle, utilisez une condition\n",
    "entre les crochets de sélection []. L’exemple ci-dessous montre comment sélectionner uniquement\n",
    "les pandas dont le ventre est de 80cm :"
   ],
   "metadata": {
    "collapsed": false,
    "pycharm": {
     "name": "#%% md\n"
    }
   }
  },
  {
   "cell_type": "code",
   "execution_count": null,
   "outputs": [],
   "source": [
    "condition = famille_panda_df[\"ventre\"] == 80\n",
    "pandas_80 = famille_panda_df[condition]"
   ],
   "metadata": {
    "collapsed": false,
    "pycharm": {
     "name": "#%% code\n"
    }
   }
  },
  {
   "cell_type": "markdown",
   "source": [
    "##### Note\n",
    "\n",
    "La sortie de l’expression conditionnelle (>, but also ==, ! =, <, ≤, . . . ) est une série pandas de\n",
    "valeurs booléennes (True ou False) avec le même nombre de lignes que le DataFrame d’origine.\n",
    "Une telle série de valeurs booléennes peut être utilisée pour filtrer le DataFrame en le plaçant\n",
    "entre les crochets de sélection []. Seules les lignes pour lesquelles la valeur est True seront\n",
    "sélectionnées.\n",
    "\n",
    "Similaire à l’expression conditionnelle, la fonction conditionnelle isin() renvoie un True pour\n",
    "chaque ligne dont les valeurs figurent dans la liste fournie. Pour filtrer les lignes en fonction d’une\n",
    "telle fonction, utilisez la fonction conditionnelle à l’intérieur des crochets de sélection [].\n",
    "\n",
    "##### Question\n",
    "\n",
    "Écrivez la condition permettant de sélectionner les pandas dont la taille des poils est comprise\n",
    "entre 5 et 6.\n",
    "\n",
    "Lorsque vous utilisez les noms de colonne ou une expression de condition, utilisez l’opérateur\n",
    "loc devant les crochets de sélection []. Pour la partie avant et après la virgule, vous pouvez utiliser\n",
    "une seule étiquette, une liste d’étiquettes, une expression conditionnelle ou un signe deux-points.\n",
    "L’utilisation d’un signe deux-points indique que vous souhaitez sélectionner toutes les lignes ou\n",
    "colonnes."
   ],
   "metadata": {
    "collapsed": false,
    "pycharm": {
     "name": "#%% md\n"
    }
   }
  },
  {
   "cell_type": "code",
   "execution_count": null,
   "outputs": [],
   "source": [
    "condition = famille_panda_df[\"ventre\"] == 80\n",
    "pandas_80 = famille_panda_df[condition]"
   ],
   "metadata": {
    "collapsed": false,
    "pycharm": {
     "name": "#%% code\n"
    }
   }
  },
  {
   "cell_type": "markdown",
   "source": [
    "Maintenant, ajoutons des lignes à notre dataframe. Il y a plusieurs méthodes pour cela, la plus\n",
    "consiste à assembler ensemble deux dataframes."
   ],
   "metadata": {
    "collapsed": false,
    "pycharm": {
     "name": "#%% md\n"
    }
   }
  },
  {
   "cell_type": "code",
   "execution_count": null,
   "outputs": [],
   "source": [
    "quelques_pandas = pd.DataFrame ([[105,4,19,80],[100,5,20,80]], columns = famille_panda_df.columns)\n",
    "tous_les_pandas = famille_panda_df.append(quelques_pandas)\n",
    "tous_les_pandas"
   ],
   "metadata": {
    "collapsed": false,
    "pycharm": {
     "name": "#%% code\n"
    }
   }
  },
  {
   "cell_type": "markdown",
   "source": [
    "##### Question\n",
    "\n",
    "créer une nouvelle colonne ”Sexe”, composée de chaı̂nes de caractères ”f” pour femelle et ”m”\n",
    "pour mâle. la maman et le bébé sont des femelles, le papa est un mâle.\n",
    "\n",
    "### 3.3 Lecture de données avec Pandas\n",
    "\n",
    "La librairie Pandas permet de lire des données à partir de fichiers stockés dans différents formats.\n",
    "Dans cette partie, nous allons voir comment lire un fichier CSV avec Pandas. Pour cela, il suffit de\n",
    "créer un dataframe à partir d’un CSV (dans notre cas, on utilisera les données de iris.csv 4 ) :"
   ],
   "metadata": {
    "collapsed": false,
    "pycharm": {
     "name": "#%% md\n"
    }
   }
  },
  {
   "cell_type": "code",
   "execution_count": null,
   "outputs": [],
   "source": [
    "iris = pd.read_csv(\"iris.csv\",header= None)\n",
    "iris_df =pd.DataFrame(iris, columns = iris.columns)"
   ],
   "metadata": {
    "collapsed": false,
    "pycharm": {
     "name": "#%% code\n"
    }
   }
  },
  {
   "cell_type": "markdown",
   "source": [
    "##### Note\n",
    "\n",
    "La méthode read csv offre différents arguments permettant de spécifier en autres le type de\n",
    "délimiteur entre colonnes (, , ; ou tabulation), le délimiteur des décimales pour les nombres\n",
    "(virgule ou le point), l’existence ou pas d’un en-tête, etc.\n",
    "\n",
    "### 4 Graphiques avec Seaborn\n",
    "\n",
    "Seaborn est une bibliothèque de visualisation de données Python basée sur Matplotlib. Il\n",
    "fournit une interface de haut niveau pour générer des graphiques statistiques.\n",
    "\n",
    "Dans cette section, vous allez utiliser Seaborn pour générer certains graphiques permettant la\n",
    "visualisation de données. Pour cela, vous utiliserez le données du fichier iris.csv.\n",
    "\n",
    "1. Pairplot : pour visualiser les relations par paires d’un dataframe pandas. Seules les colonnes\n",
    "avec des valeurs numériques sont prises en compte.\n",
    "— sns.pairplot(data = iris df)\n",
    "— s’il y a une colonne avec des catégories, on peut colorer les points selon la catégorie :\n",
    "sns.pairplot(data = iris df, hue= 0 species 0 ,\n",
    "\n",
    "palette= { 0 setosa 0 : 0 green 0 , 0 virginica 0 : 0 red 0 , 0 versicolor 0 : 0 blue 0 })\n",
    "2. Stripplot : permet de représenter un nuage de points 1d pour chaque valeur de catégorie :\n",
    "— sns.stripplot(x = 0 species 0 , y= 0 petal length 0 , data = iris df, jitter= 0.2)\n",
    "\n",
    "3. countplot : permet de représenter sous forme de barres le nombre d’instances d’un attribut\n",
    "donnée : sns.countplot(x = 0 species 0 , data = iris df)\n",
    "4. scatterplot : permet de représenter un nuage de points pour chaque ligne du dataframe\n",
    "(plusieurs options possibles) : sns.scatterplot(data = iris df, y = 0 sepal width 0 , x\n",
    "= 0 petal length 0 )\n",
    "\n",
    "### 5 Références\n",
    "\n",
    "1. [Découvrez les librairies Python pour la Data Science](https://mooc-francophone.com)\n",
    "2. [Documentation Pandas](https://pandas.pydata.org/pandas-docs/stable/reference/index.html#api)"
   ],
   "metadata": {
    "collapsed": false,
    "pycharm": {
     "name": "#%% md\n"
    }
   }
  }
 ],
 "metadata": {
  "kernelspec": {
   "display_name": "Python 3",
   "language": "python",
   "name": "python3"
  },
  "language_info": {
   "codemirror_mode": {
    "name": "ipython",
    "version": 2
   },
   "file_extension": ".py",
   "mimetype": "text/x-python",
   "name": "python",
   "nbconvert_exporter": "python",
   "pygments_lexer": "ipython2",
   "version": "2.7.6"
  }
 },
 "nbformat": 4,
 "nbformat_minor": 0
}