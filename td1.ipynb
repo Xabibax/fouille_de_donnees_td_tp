{
 "cells": [
  {
   "cell_type": "markdown",
   "metadata": {},
   "source": [
    "# TD 1 – Frequent Pattern Mining\n",
    "\n",
    "## Exercise 1 – Appriori and Eclat algorithms\n",
    "\n",
    "### 1. Given the database in Table 1a.\n",
    "\n",
    "| t | i(t)\n",
    "|:-:|:-:\n",
    "| 1 | ADE\n",
    "| 2 | BCD\n",
    "| 3 | ACE\n",
    "| 4 | ACDE\n",
    "| 5 | AE\n",
    "| 6 | ACD\n",
    "| 7 | BC\n",
    "| 8 | ACDE\n",
    "| 9 | BCE\n",
    "| 10| ADE\n",
    "\n",
    "(a) Transaction database for question 1.\n",
    "\n",
    "#### i. What is the maximal number of frequent itemsets that can be extracted from this dataset ?\n",
    "___\n",
    "Items = { A, B, C, D, E } , le nombre de motfis est $2⁵ = 32$\n",
    "___\n",
    "\n",
    "#### ii. Draw the lattice of itemsets.\n",
    "\n",
    "___\n",
    "[question_1_2_lattice]: assets/td1/question_1_2_lattice.png \"lattice\"\n",
    "![question_1_2_lattice][question_1_2_lattice]\n",
    "\n",
    "\n",
    "[question_1_2_bonus]: assets/td1/question_1_2_bonus.svg \"lattice\"\n",
    "![question_1_2_bonus][question_1_2_bonus]\n",
    "___\n",
    "\n",
    "### 2. Using $θ = 3/10$, show how the Appriori algorithm enumerates all frequent patterns from this dataset.\n",
    "\n",
    "| A | B | C | D | E\n",
    "|:-:|:-:|:-:|:-:|:-:\n",
    "|1 <br/> 3 <br/> 5 <br/> 6|2 <br/> 3 <br/> 4 <br/> 5 <br/> 6|1 <br/> 2 <br/> 3 <br/> 5 <br/> 6|1 <br/> 6|2 <br/> 3 <br/> 4 <br/> 5\n",
    "\n",
    "___\n",
    "A(7) B(3) C(7) D(6) E(7)\n",
    "\n",
    "AB(0) AC(4) AD(5) AE(6) BC(3) BD(1) BE(1) CD(4) CE(4) DE(4)\n",
    "\n",
    "ACD(3) ACE(3) ADE(4) CDE(2)\n",
    "\n",
    "ACDE(2)\n",
    "\n",
    "\n",
    "___\n",
    "\n",
    "(b) Transaction database for question 2."
   ]
  },
  {
   "cell_type": "code",
   "execution_count": 1,
   "metadata": {
    "pycharm": {
     "name": "#%% code\n"
    }
   },
   "outputs": [],
   "source": []
  },
  {
   "cell_type": "markdown",
   "metadata": {},
   "source": [
    "### 3. Consider the vertical database shown in Table 1b. Assuming that $θ = 3$, enumerate all the\n",
    "frequent itemsets using the Eclat method."
   ]
  },
  {
   "cell_type": "code",
   "execution_count": 1,
   "metadata": {
    "pycharm": {
     "name": "#%% code\n"
    }
   },
   "outputs": [],
   "source": []
  },
  {
   "cell_type": "markdown",
   "metadata": {},
   "source": [
    "## Exercise 2 – Difference of Tidsets\n",
    "\n",
    "One of the main bottleneck of the Eclat algorithm is the intersection operation performed to\n",
    "compute the support of itemsets. This algorithm can be improved by exploiting the concept of\n",
    "Diffsets or Difference of Tidsets. The variant of Eclat that uses the diffset optimization is called\n",
    "dEclat.\n",
    "\n",
    "Consider two $k−itemsets$ $X a = {x 1 , . . . , x k−1 , x a }$ and $X b = {x 1 , . . . , x k−1 , x b }$ that share the\n",
    "common $(k − 1)−itemset X = {x 1 , . . . , x k−1 }$ as a prefix. The diffset of $X a (resp. X b )$ is the set of\n",
    "tids that contain the prefix $X$, but not the item $X a (resp. X a )$ :\n",
    "\n",
    "$d(X a ) = t(X) \\ t(X a )$\n",
    "\n",
    "$d(X b ) = t(X) \\ t(X b )$\n",
    "\n",
    "Now, consider the diffset of $X ab = X a ∪ X b = {x 1 , . . . , x k−1 , x a , x b }$, we have\n",
    "\n",
    "$d(X ab ) = t(X a ) \\ t(X ab ) = t(X a ) \\ t(X b ) = d(X b \\ d(X a )$\n",
    "\n",
    "Thus, the diffset of $X ab$ can be obtained from diffsets of its subsets $X a$ and $X b$ , which means\n",
    "that we can replace all intersection operations in Eclat with diffset operations. Using diffsets the\n",
    "support of a candidate itemset can be obtained by subtracting the diffset size from the support of\n",
    "the prefix itemset.\n",
    "\n",
    "### 1. Define the frequency of $X a$ and $X b$ by mean of $d(X a )$ and $d(X b )$."
   ]
  },
  {
   "cell_type": "code",
   "execution_count": 1,
   "metadata": {
    "pycharm": {
     "name": "#%% code\n"
    }
   },
   "outputs": [],
   "source": []
  },
  {
   "cell_type": "markdown",
   "metadata": {},
   "source": [
    "### 2. Using the diffset of $X ab$ , define the frequency of $X ab$."
   ]
  },
  {
   "cell_type": "code",
   "execution_count": 1,
   "metadata": {
    "pycharm": {
     "name": "#%% code\n"
    }
   },
   "outputs": [],
   "source": []
  },
  {
   "cell_type": "markdown",
   "metadata": {},
   "source": [
    "### 3. Show how the dEclat algorithm enumerates all frequent patterns from the dataset of Table 1b."
   ]
  },
  {
   "cell_type": "code",
   "execution_count": 1,
   "metadata": {
    "pycharm": {
     "name": "#%% code\n"
    }
   },
   "outputs": [],
   "source": []
  },
  {
   "cell_type": "markdown",
   "metadata": {},
   "source": [
    "## Exercise 3 – Association rules\n",
    "\n",
    "Given the database in Table 1. Assume that minconf = 0.9. Show all rules that one can\n",
    "generate from the frequent itemset ABDE.\n",
    "\n",
    "Table 1 – Dataset for Exercises 3 and 4.\n",
    "\n",
    "| t | i(t)\n",
    "|:-:|:-:\n",
    "| 1 | ABDE\n",
    "| 2 | BCE\n",
    "| 3 | ABDE\n",
    "| 4 | ABCE\n",
    "| 5 | ABCDE\n",
    "| 6 | BCD\n",
    "\n",
    "## Exercise 4 – Closed and maximal itemsets\n",
    "\n",
    "Given the database in Table 1.\n",
    "\n",
    "### 1. Show the application of the closure operation on AD, that is, computes c(AD). Is AD closed ?"
   ]
  },
  {
   "cell_type": "code",
   "execution_count": 1,
   "metadata": {
    "pycharm": {
     "name": "#%% code\n"
    }
   },
   "outputs": [],
   "source": []
  },
  {
   "cell_type": "markdown",
   "metadata": {},
   "source": [
    "### 2. Find all frequent, closed and maximal itemsets using $θ = 3/6$."
   ]
  },
  {
   "cell_type": "code",
   "execution_count": 1,
   "metadata": {
    "pycharm": {
     "name": "#%% code\n"
    }
   },
   "outputs": [],
   "source": []
  },
  {
   "cell_type": "markdown",
   "metadata": {},
   "source": [
    "## Exercise 5 – Closed itemset lattice\n",
    "\n",
    "Consider the frequent closed itemset lattice shown if Figure 1. Assume that item space is\n",
    "$I = {A, B, C, D, E}$. Answer the following questions :\n",
    "\n",
    "[figure_1]: assets/td1/figure_1_closed_itemset_lattice.png \"Closed itemset lattice\"\n",
    "![Figure 1 – Closed itemset lattice][figure_1]\n",
    "\n",
    "Figure 1 – Closed itemset lattice.\n",
    "\n",
    "### 1. What is the frequency of CD ?"
   ]
  },
  {
   "cell_type": "code",
   "execution_count": 1,
   "metadata": {
    "pycharm": {
     "name": "#%% code\n"
    }
   },
   "outputs": [],
   "source": []
  },
  {
   "cell_type": "markdown",
   "metadata": {},
   "source": [
    "### 2. Find all frequent itemsets and their frequency, for itemsets in the subset interval [B, ABD]."
   ]
  },
  {
   "cell_type": "code",
   "execution_count": 1,
   "metadata": {
    "pycharm": {
     "name": "#%% code\n"
    }
   },
   "outputs": [],
   "source": []
  },
  {
   "cell_type": "markdown",
   "metadata": {},
   "source": [
    "### 3. Is ADE frequent ? If yes, show its frequency. If not, why ?"
   ]
  },
  {
   "cell_type": "code",
   "execution_count": 1,
   "metadata": {
    "pycharm": {
     "name": "#%% code\n"
    }
   },
   "outputs": [],
   "source": []
  },
  {
   "cell_type": "markdown",
   "metadata": {},
   "source": []
  }
 ],
 "metadata": {
  "kernelspec": {
   "display_name": "Python 3",
   "language": "python",
   "name": "python3"
  },
  "language_info": {
   "codemirror_mode": {
    "name": "ipython",
    "version": 3
   },
   "file_extension": ".py",
   "mimetype": "text/x-python",
   "name": "python",
   "nbconvert_exporter": "python",
   "pygments_lexer": "ipython3",
   "version": "3.8.5"
  }
 },
 "nbformat": 4,
 "nbformat_minor": 1
}