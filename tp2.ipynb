{
 "cells": [
  {
   "cell_type": "markdown",
   "metadata": {
    "collapsed": true,
    "pycharm": {
     "name": "#%% md\n"
    }
   },
   "source": [
    "# TP 2 : Fouille d’itemsets fréquents et de règles d’association sous Python\n",
    "\n",
    "IMT Atlantique – FIL A3  <br/>\n",
    "Apprentissage Automatique\n",
    "\n",
    "## Objectifs :\n",
    "\n",
    "MLxtend (pour machine learning extensions) est une bibliothèque logicielle développée par Sebas-\n",
    "tian Raschka, qui propose des méthodes d’extraction de itemsets fréquents et de règles d’association\n",
    "basée sur Apriori. D’autres algorithmes plus sophistiqués sont aussi proposés.\n",
    "\n",
    "Ce TP se déroule en deux parties : découverte de MLxtend via des exemples 1 simples et application\n",
    "d’algorithmes de fouille de itemsets sur des données de vente au détail en ligne.\n",
    "\n",
    "### 1 Partie 1 : MLxtend pour la fouille d’itemsets\n",
    "\n",
    "### 1.1 Installation\n",
    "\n",
    "MLxtend est une bibliothèque Python qui implémente différentes méthodes pour l’apprentissage\n",
    "machine. Parmi ces méthodes, on retrouve les algorithmes d’extraction de itemsets fréquents, de\n",
    "maximaux fréquents et de règles d’association.\n",
    "\n",
    "L’installation de cette bibliothèque se fait via [canda](http://rasbt.github.io/mlxtend/installation/), avec la commande suivante :\n",
    "\n",
    "```bash\n",
    "conda install mlxtend --channel conda-forge\n",
    "```\n",
    "\n",
    "L’utilisation de fonctionnalités de MLxtend commence par l’importation de ces trois librairies :"
   ]
  },
  {
   "cell_type": "code",
   "execution_count": 143,
   "metadata": {
    "pycharm": {
     "name": "#%% code\n"
    }
   },
   "outputs": [],
   "source": [
    "from mlxtend.preprocessing import TransactionEncoder\n",
    "from mlxtend.frequent_patterns import apriori, fpmax\n",
    "from mlxtend.frequent_patterns import association_rules"
   ]
  },
  {
   "cell_type": "markdown",
   "metadata": {
    "pycharm": {
     "name": "#%% md\n"
    }
   },
   "source": [
    "###1.2 Importation et préparation des données\n",
    "\n",
    "### 1.2.1 Données transactionnelle\n",
    "\n",
    "Considérons le dataset ci-dessous décrivant les caddies de supermarché."
   ]
  },
  {
   "cell_type": "code",
   "execution_count": 144,
   "metadata": {
    "pycharm": {
     "name": "#%% code\n"
    }
   },
   "outputs": [],
   "source": [
    "dataset = [ ['Milk', 'Onion', 'Nutmeg', 'Kidney Beans', 'Eggs', 'Yogurt'],\n",
    "['Dill', 'Onion', 'Nutmeg', 'Kidney Beans', 'Eggs', 'Yogurt'],\n",
    "['Milk', 'Apple', 'Kidney Beans', 'Eggs'],\n",
    "['Milk', 'Unicorn', 'Corn', 'Kidney Beans', 'Yogurt'],\n",
    "['Corn', 'Onion', 'Onion', 'Kidney Beans', 'Ice cream', 'Eggs']\n",
    "]"
   ]
  },
  {
   "cell_type": "markdown",
   "metadata": {
    "pycharm": {
     "name": "#%% md\n"
    }
   },
   "source": [
    "### 1.2.2 Transformation en tableau binaire\n",
    "\n",
    "La méthode apriori de la librairie MLxtend prend en entrée un tableau binaire où sont recensés\n",
    "la présence (codé True) ou l’absence (codée par False) des produits dans chaque caddie.\n",
    "\n",
    "— L’objet TransactionEncoder permet de transformer un ensemble de données en un tableau\n",
    "binaire ;  \n",
    "— Avec la méthode fit, le TransactionEncoder apprend les étiquettes uniques dans l’ensemble de données, et via la méthode de transformation, il transforme l’ensemble de données d’entrée (une liste de listes) en un tableau de booléens."
   ]
  },
  {
   "cell_type": "code",
   "execution_count": 145,
   "metadata": {
    "pycharm": {
     "name": "#%% code\n"
    }
   },
   "outputs": [],
   "source": [
    "TB = TransactionEncoder()\n",
    "TBA = TB.fit(dataset).transform(dataset)"
   ]
  },
  {
   "cell_type": "markdown",
   "metadata": {
    "pycharm": {
     "name": "#%% md\n"
    }
   },
   "source": [
    "Le résultat de cette étape est un tableau NumPy au format ndarray. Il est possible de transformer\n",
    "ce tableau en un dataframe grâce à Pandas :"
   ]
  },
  {
   "cell_type": "code",
   "execution_count": 146,
   "metadata": {
    "pycharm": {
     "name": "#%% code\n"
    }
   },
   "outputs": [],
   "source": [
    "import pandas as pd\n",
    "df = pd.DataFrame (TBA, columns=TB.columns_)"
   ]
  },
  {
   "cell_type": "markdown",
   "metadata": {
    "pycharm": {
     "name": "#%% md\n"
    }
   },
   "source": [
    "### 1.3 Extraction d’itemsets fréquents et des maximaux\n",
    "\n",
    "Pour extraire les itemsets fréquents il faut appliquer la fonction apriori() au dataframe et\n",
    "fixer la valeur du support minimum (dans notre cas, min support=0.5). Il est aussi possible de\n",
    "contraindre la taille des itemsets retournés avec le paramètre max len."
   ]
  },
  {
   "cell_type": "code",
   "execution_count": 147,
   "metadata": {
    "pycharm": {
     "name": "#%% code\n"
    }
   },
   "outputs": [],
   "source": [
    "FI = apriori(df,min_support=0.5, use_colnames=True)"
   ]
  },
  {
   "cell_type": "markdown",
   "metadata": {
    "pycharm": {
     "name": "#%% md\n"
    }
   },
   "source": [
    "Les résultats sont stockés dans une structure de type ”pandas/DataFrame”."
   ]
  },
  {
   "cell_type": "code",
   "execution_count": 148,
   "metadata": {
    "pycharm": {
     "name": "#%% code\n"
    }
   },
   "outputs": [
    {
     "data": {
      "text/plain": "pandas.core.frame.DataFrame"
     },
     "execution_count": 148,
     "metadata": {},
     "output_type": "execute_result"
    }
   ],
   "source": [
    "type(FI)"
   ]
  },
  {
   "cell_type": "markdown",
   "metadata": {
    "pycharm": {
     "name": "#%% md\n"
    }
   },
   "source": [
    "Elle est composée de 2 colonnes : le support et la description des itemsets."
   ]
  },
  {
   "cell_type": "code",
   "execution_count": 149,
   "metadata": {
    "pycharm": {
     "name": "#%% code\n"
    }
   },
   "outputs": [
    {
     "name": "stdout",
     "output_type": "stream",
     "text": [
      "Index(['support', 'itemsets'], dtype='object')\n"
     ]
    }
   ],
   "source": [
    "print(FI.columns)"
   ]
  },
  {
   "cell_type": "markdown",
   "metadata": {
    "pycharm": {
     "name": "#%% md\n"
    }
   },
   "source": [
    "Pour nos données et avec les paramètres ci-dessus, vous devez obtenir 11 itemsets fréquents suivants."
   ]
  },
  {
   "cell_type": "code",
   "execution_count": 150,
   "metadata": {
    "pycharm": {
     "name": "#%% code\n"
    }
   },
   "outputs": [
    {
     "name": "stdout",
     "output_type": "stream",
     "text": [
      "    support                     itemsets\n",
      "0       0.8                       (Eggs)\n",
      "1       1.0               (Kidney Beans)\n",
      "2       0.6                       (Milk)\n",
      "3       0.6                      (Onion)\n",
      "4       0.6                     (Yogurt)\n",
      "5       0.8         (Eggs, Kidney Beans)\n",
      "6       0.6                (Eggs, Onion)\n",
      "7       0.6         (Kidney Beans, Milk)\n",
      "8       0.6        (Kidney Beans, Onion)\n",
      "9       0.6       (Kidney Beans, Yogurt)\n",
      "10      0.6  (Eggs, Kidney Beans, Onion)\n"
     ]
    }
   ],
   "source": [
    "print(FI)"
   ]
  },
  {
   "cell_type": "markdown",
   "metadata": {
    "pycharm": {
     "name": "#%% md\n"
    }
   },
   "source": [
    "On souhaite à présent mesurer le temps d’exécution de Apriori pour extraire les itemsets\n",
    "fréquents. Pour cela, nous allons utiliser la fonction magique ipython %timit, qui peut être utilisée\n",
    "pour chronométrer un morceau de code particulier (une seule instruction d’exécution ou une seule\n",
    "méthode).\n",
    "\n",
    "##### Note\n",
    "Usage, in line mode :\n",
    "%timeit -n<N> -r<R> [-t|-c] -q -p<P> -o] statement"
   ]
  },
  {
   "cell_type": "code",
   "execution_count": 151,
   "outputs": [
    {
     "name": "stdout",
     "output_type": "stream",
     "text": [
      "3.69 ms ± 670 µs per loop (mean ± std. dev. of 10 runs, 100 loops each)\n"
     ]
    }
   ],
   "source": [
    "%timeit -n 100 -r 10 apriori(df, min_support=0.5)"
   ],
   "metadata": {
    "collapsed": false,
    "pycharm": {
     "name": "#%% code\n"
    }
   }
  },
  {
   "cell_type": "markdown",
   "metadata": {
    "pycharm": {
     "name": "#%% md\n"
    }
   },
   "source": [
    "La librairie MLxtend propose d’autres algorithmes sophistiqués pour extraire les itemsets fréquents,\n",
    "comme l’algorithme fpgrowth.\n",
    "\n",
    "##### Question\n",
    "Appliquez l’algorithme fpgrowth pour extraire les itemsets fréquents, puis comparez les temps\n",
    "de calculs avec Apriori. Que pouvez-vous conclure ?\n",
    "\n",
    "Pour extraire les itemsets fréquents maximaux, il faut utiliser la fonction fpmax."
   ]
  },
  {
   "cell_type": "code",
   "execution_count": 152,
   "metadata": {
    "pycharm": {
     "name": "#%% code\n"
    }
   },
   "outputs": [
    {
     "name": "stdout",
     "output_type": "stream",
     "text": [
      "   support                     itemsets\n",
      "0      0.6         (Kidney Beans, Milk)\n",
      "1      0.6  (Eggs, Kidney Beans, Onion)\n",
      "2      0.6       (Kidney Beans, Yogurt)\n"
     ]
    }
   ],
   "source": [
    "MFI = fpmax(df,min_support=0.5, use_colnames=True)\n",
    "print(MFI)"
   ]
  },
  {
   "cell_type": "markdown",
   "metadata": {
    "pycharm": {
     "name": "#%% md\n"
    }
   },
   "source": [
    "### 1.4Extraction de règles d’association\n",
    "\n",
    "La fonction association rules de MLxtend prend les dataframes des itemsets fréquents pro-\n",
    "duits par les fonctions apriori(), fpgrowth() ou fpmax().\n",
    "\n",
    "Pour limiter le nombres de règles extraites, la fonction permet de spécifier (1) la métrique\n",
    "d’intérêt (paramètre metric) et (2) le seuil correspondant (paramètre min threshold). Les mesures\n",
    "actuellement mises en œuvre sont la confiance (metric = ”confidence”) et le lift (metric = ”lift”).\n",
    "\n",
    "Le code ci-dessous illustre un exemple d’extraction de règles d’association à partir de itemsets\n",
    "fréquents avec un niveau de confidence d’au moins 80% (min threshold=0.8)."
   ]
  },
  {
   "cell_type": "code",
   "execution_count": 153,
   "metadata": {
    "pycharm": {
     "name": "#%% code\n"
    }
   },
   "outputs": [],
   "source": [
    "AR = association_rules(FI,metric=\"confidence\",min_threshold=0.8)"
   ]
  },
  {
   "cell_type": "markdown",
   "metadata": {
    "pycharm": {
     "name": "#%% md\n"
    }
   },
   "source": [
    "##### Question\n",
    "Affichez pour chaque règle l’antécédent et son le conséquent.\n",
    "\n",
    "### 2 Partie 2 : Application à des données de vente en détail\n",
    "\n",
    "Nous allons maintenant appliquer les différents algorithmes vus précédemment sur des données\n",
    "de vente en détail en ligne issu de la base retail. Le fichier ”retail dataset.csv ” est un\n",
    "fichier au format csv qui se présente sous la forme d’une base transactionnelle ou les transactions\n",
    "représentent des caddies de supermarché : chaque ligne correspond aux noms des produits.\n",
    "\n",
    "### 2.1 Évaluation\n",
    "\n",
    "Vous devez rendre un code python qui tourne sur netbook Jupyter + un mini rapport (format\n",
    "pdf) présentant le travail réalisé, les résultats obtenus et une analyse (intéressante) de ces résultats.\n",
    "\n",
    "### 2.2 Travail à faire\n",
    "\n",
    "1. Charger et transformer les données de façon à ce qu’elles soient reconnues comme des tran-\n",
    "sactions. En pratique on construit un tableau de données binaires.\n",
    "Les instructions Python suivantes permettent de charger le jeu de données retail :"
   ]
  },
  {
   "cell_type": "code",
   "execution_count": 154,
   "metadata": {
    "pycharm": {
     "name": "#%% code\n"
    }
   },
   "outputs": [
    {
     "name": "stdout",
     "output_type": "stream",
     "text": [
      "        0       1       2       3       4       5       6\n",
      "0   Bread    Wine    Eggs    Meat  Cheese  Pencil  Diaper\n",
      "1   Bread  Cheese    Meat  Diaper    Wine    Milk  Pencil\n",
      "2  Cheese    Meat    Eggs    Milk    Wine     NaN     NaN\n",
      "3  Cheese    Meat    Eggs    Milk    Wine     NaN     NaN\n",
      "4    Meat  Pencil    Wine     NaN     NaN     NaN     NaN\n",
      "5    Eggs   Bread    Wine  Pencil    Milk  Diaper   Bagel\n",
      "6    Wine  Pencil    Eggs  Cheese     NaN     NaN     NaN\n",
      "7   Bagel   Bread    Milk  Pencil  Diaper     NaN     NaN\n",
      "8   Bread  Diaper  Cheese    Milk    Wine    Eggs     NaN\n",
      "9   Bagel    Wine  Diaper    Meat  Pencil    Eggs  Cheese\n"
     ]
    }
   ],
   "source": [
    "import pandas as pd\n",
    "db = pd.read_csv('retail_dataset.csv',sep=',',header=0)\n",
    "print(db.head(10))"
   ]
  },
  {
   "cell_type": "markdown",
   "metadata": {
    "pycharm": {
     "name": "#%% md\n"
    }
   },
   "source": [
    "2. Utiliser l’algorithme Apriori pour extraire les itemsets fréquents et les maximaux. Vous choisirez un support minimum de 3%.\n",
    "— Que se passe t’il si on fait varier le seuil du support ?  <br/>\n",
    "— Tracer une courbe montrant l’évolution du nombre de itemsets extraits en fonction du support minimum.  <br/>"
   ]
  },
  {
   "cell_type": "code",
   "execution_count": 155,
   "outputs": [
    {
     "name": "stdout",
     "output_type": "stream",
     "text": [
      "[{'support': 0.5, 'results':     support  itemsets\n",
      "0  0.504762   (Bread)\n",
      "1  0.501587  (Cheese)\n",
      "2  0.501587    (Milk)}]\n"
     ]
    }
   ],
   "source": [
    "import numpy as np\n",
    "db_trans = np.array(\n",
    "    list(map(lambda x:\n",
    "        list(map(lambda y: '' if type(y) != str else y, x\n",
    "        ))\n",
    "    ,db.values))\n",
    ")\n",
    "#print(db_trans)\n",
    "\n",
    "TDB = TransactionEncoder()\n",
    "TDBA = TDB.fit(db_trans).transform(db_trans)\n",
    "#print(TDB.columns_)\n",
    "#print(TDBA)\n",
    "\n",
    "dbf = pd.DataFrame (TDBA, columns=TDB.columns_).drop(columns=[''])\n",
    "#print(dbf)\n",
    "\n",
    "DBI = [{'support': 0.5, 'results' :apriori(dbf,min_support=0.5, use_colnames=True)}]\n",
    "print(DBI)"
   ],
   "metadata": {
    "collapsed": false,
    "pycharm": {
     "name": "#%% code\n"
    }
   }
  },
  {
   "cell_type": "code",
   "execution_count": 156,
   "outputs": [
    {
     "name": "stdout",
     "output_type": "stream",
     "text": [
      "   suport  nb_of_itemsets\n",
      "0    0.05             209\n",
      "1    0.10             100\n",
      "2    0.15              54\n",
      "3    0.20              33\n",
      "4    0.25              17\n",
      "5    0.30              11\n",
      "6    0.35               9\n",
      "7    0.40               8\n",
      "8    0.45               4\n",
      "9    0.50               3\n"
     ]
    }
   ],
   "source": [
    "## Que se passe t’il si on fait varier le seuil du support ?\n",
    "DBI = [{'support': (i/2)/10, 'results' :apriori(dbf,min_support=(i/2)/10, use_colnames=True)} for i in range(1,11) ]\n",
    "print(pd.DataFrame(data= {\n",
    "    'suport': [x['support'] for x in DBI],\n",
    "    'nb_of_itemsets': [len(x['results']) for x in DBI]\n",
    "}))\n"
   ],
   "metadata": {
    "collapsed": false,
    "pycharm": {
     "name": "#%% code\n"
    }
   }
  },
  {
   "cell_type": "code",
   "execution_count": 157,
   "outputs": [
    {
     "name": "stdout",
     "output_type": "stream",
     "text": [
      "   min_support  nb_of_itemsets\n",
      "0         0.05             209\n",
      "1         0.10             100\n",
      "2         0.15              54\n",
      "3         0.20              33\n",
      "4         0.25              17\n",
      "5         0.30              11\n",
      "6         0.35               9\n",
      "7         0.40               8\n",
      "8         0.45               4\n",
      "9         0.50               3\n"
     ]
    },
    {
     "data": {
      "text/plain": "<AxesSubplot:xlabel='min_support', ylabel='nb_of_itemsets'>"
     },
     "execution_count": 157,
     "metadata": {},
     "output_type": "execute_result"
    },
    {
     "data": {
      "text/plain": "<Figure size 432x288 with 1 Axes>",
      "image/png": "[encoded data removed]"
     },
     "metadata": {
      "needs_background": "light"
     },
     "output_type": "display_data"
    }
   ],
   "source": [
    "## Tracer une courbe montrant l’évolution du nombre de itemsets extraits en fonction du support minimum.\n",
    "dataset2 = pd.DataFrame(data= {\n",
    "    'min_support': [x['support'] for x in DBI ],\n",
    "    'nb_of_itemsets': [len(x['results']) for x in DBI ]})\n",
    "print(dataset2)\n",
    "import seaborn as sns\n",
    "sns.lineplot(data=dataset2 ,x='min_support', y=\"nb_of_itemsets\")"
   ],
   "metadata": {
    "collapsed": false,
    "pycharm": {
     "name": "#%% code\n"
    }
   }
  },
  {
   "cell_type": "markdown",
   "source": [
    "3. Nous souhaitons pouvoir filtrer les itemsets selon la présence d’items ou d’un ensemble\n",
    "d’items.  <br/>\n",
    "Par exemple, quels sont les itemsets qui contiennent le produit ’Eggs’ ? les produits\n",
    "{’Eggs’,’Meat’} ?\n",
    "\n",
    "##### Note\n",
    "Plusieurs solutions s‘offrent à vous pour la recherche d’itemsets répondant à des condi-\n",
    "tions de présence d’items. Vous pouvez par exemple utiliser les opérateurs de comparaison\n",
    "de [pandas.Series](https://pandas.pydata.org/pandas-docs/stable/reference/series.html)."
   ],
   "metadata": {
    "collapsed": false,
    "pycharm": {
     "name": "#%% md\n"
    }
   }
  },
  {
   "cell_type": "code",
   "execution_count": 306,
   "outputs": [
    {
     "name": "stdout",
     "output_type": "stream",
     "text": [
      "[['Bread', 'Cheese', 'Diaper', 'Eggs', 'Meat', 'Pencil', 'Wine'], ['Cheese', 'Eggs', 'Meat', 'Milk', 'Wine'], ['Cheese', 'Eggs', 'Meat', 'Milk', 'Wine'], ['Bagel', 'Bread', 'Diaper', 'Eggs', 'Milk', 'Pencil', 'Wine'], ['Cheese', 'Eggs', 'Pencil', 'Wine'], ['Bread', 'Cheese', 'Diaper', 'Eggs', 'Milk', 'Wine'], ['Bagel', 'Cheese', 'Diaper', 'Eggs', 'Meat', 'Pencil', 'Wine'], ['Cheese', 'Eggs', 'Meat', 'Milk', 'Wine'], ['Bagel', 'Bread', 'Diaper', 'Eggs', 'Meat', 'Milk', 'Wine'], ['Bagel', 'Bread', 'Cheese', 'Diaper', 'Eggs', 'Meat'], ['Bread', 'Cheese', 'Eggs', 'Meat', 'Milk', 'Pencil', 'Wine'], ['Bagel', 'Cheese', 'Diaper', 'Eggs', 'Meat'], ['Diaper', 'Eggs', 'Meat', 'Pencil', 'Wine'], ['Cheese', 'Eggs', 'Meat', 'Milk', 'Wine'], ['Bread', 'Cheese', 'Diaper', 'Eggs', 'Meat', 'Milk'], ['Eggs'], ['Bagel', 'Bread', 'Cheese', 'Eggs', 'Milk', 'Pencil', 'Wine'], ['Bagel', 'Eggs'], ['Bagel', 'Bread', 'Cheese', 'Diaper', 'Eggs', 'Milk', 'Wine'], ['Cheese', 'Eggs', 'Meat', 'Milk'], ['Eggs', 'Wine'], ['Cheese', 'Eggs', 'Meat', 'Milk', 'Wine'], ['Cheese', 'Eggs', 'Meat', 'Milk', 'Wine'], ['Cheese', 'Eggs', 'Meat', 'Milk'], ['Cheese', 'Diaper', 'Eggs', 'Milk', 'Pencil', 'Wine'], ['Bread', 'Cheese', 'Diaper', 'Eggs', 'Meat', 'Milk', 'Wine'], ['Diaper', 'Eggs'], ['Cheese', 'Eggs', 'Meat', 'Milk', 'Wine'], ['Cheese', 'Diaper', 'Eggs', 'Pencil', 'Wine'], ['Bread', 'Cheese', 'Diaper', 'Eggs', 'Milk', 'Pencil'], ['Bagel', 'Bread', 'Eggs'], ['Bread', 'Eggs'], ['Diaper', 'Eggs', 'Milk', 'Pencil'], ['Cheese', 'Eggs', 'Meat', 'Milk'], ['Cheese', 'Eggs', 'Meat', 'Milk'], ['Bagel', 'Bread', 'Cheese', 'Diaper', 'Eggs', 'Pencil', 'Wine'], ['Cheese', 'Eggs', 'Meat', 'Milk'], ['Cheese', 'Eggs', 'Meat'], ['Bagel', 'Cheese', 'Eggs', 'Meat', 'Wine'], ['Cheese', 'Eggs', 'Meat', 'Milk'], ['Bagel', 'Cheese', 'Diaper', 'Eggs', 'Meat', 'Pencil', 'Wine'], ['Bagel', 'Cheese', 'Diaper', 'Eggs', 'Meat', 'Milk', 'Wine'], ['Bread', 'Cheese', 'Eggs', 'Milk', 'Pencil', 'Wine'], ['Bagel', 'Cheese', 'Eggs', 'Meat', 'Milk'], ['Cheese', 'Eggs', 'Meat', 'Milk'], ['Diaper', 'Eggs', 'Meat', 'Wine'], ['Bagel', 'Bread', 'Eggs', 'Meat', 'Milk', 'Pencil', 'Wine'], ['Bagel', 'Bread', 'Cheese', 'Eggs', 'Pencil'], ['Bread', 'Cheese', 'Eggs'], ['Bread', 'Cheese', 'Diaper', 'Eggs', 'Meat', 'Pencil', 'Wine'], ['Bagel', 'Bread', 'Eggs', 'Meat', 'Wine'], ['Bagel', 'Diaper', 'Eggs', 'Pencil', 'Wine'], ['Bread', 'Cheese', 'Eggs', 'Meat', 'Milk', 'Pencil', 'Wine'], ['Bagel', 'Eggs', 'Milk', 'Wine'], ['Bagel', 'Cheese', 'Eggs', 'Meat', 'Milk', 'Pencil', 'Wine'], ['Cheese', 'Eggs', 'Meat', 'Milk'], ['Bagel', 'Cheese', 'Diaper', 'Eggs', 'Meat'], ['Bagel', 'Bread', 'Eggs', 'Pencil'], ['Bread', 'Cheese', 'Eggs', 'Meat', 'Milk', 'Pencil', 'Wine'], ['Eggs', 'Meat', 'Pencil'], ['Bagel', 'Bread', 'Cheese', 'Eggs', 'Meat', 'Pencil'], ['Bread', 'Cheese', 'Eggs', 'Milk'], ['Bread', 'Diaper', 'Eggs', 'Wine'], ['Bagel', 'Bread', 'Cheese', 'Eggs', 'Meat', 'Wine'], ['Bread', 'Cheese', 'Eggs', 'Meat', 'Milk', 'Pencil'], ['Bagel', 'Bread', 'Diaper', 'Eggs', 'Meat', 'Milk', 'Pencil'], ['Bagel', 'Bread', 'Cheese', 'Diaper', 'Eggs', 'Meat', 'Wine'], ['Cheese', 'Eggs', 'Meat', 'Milk'], ['Cheese', 'Diaper', 'Eggs', 'Milk'], ['Cheese', 'Eggs', 'Meat', 'Pencil', 'Wine'], ['Bagel', 'Cheese', 'Eggs', 'Pencil', 'Wine'], ['Bread', 'Eggs', 'Wine'], ['Bagel', 'Bread', 'Eggs', 'Milk', 'Pencil', 'Wine'], ['Bagel', 'Eggs'], ['Bread', 'Cheese', 'Eggs', 'Meat', 'Milk', 'Wine'], ['Eggs', 'Meat'], ['Cheese', 'Eggs', 'Meat', 'Milk'], ['Cheese', 'Eggs', 'Meat', 'Milk'], ['Bagel', 'Bread', 'Diaper', 'Eggs', 'Meat', 'Milk', 'Pencil'], ['Cheese', 'Eggs'], ['Eggs'], ['Eggs', 'Milk', 'Pencil'], ['Bagel', 'Bread', 'Cheese', 'Eggs', 'Meat', 'Milk', 'Pencil'], ['Cheese', 'Eggs', 'Meat', 'Milk'], ['Bagel', 'Eggs', 'Meat', 'Milk', 'Pencil', 'Wine'], ['Bread', 'Eggs', 'Meat', 'Milk', 'Wine'], ['Bread', 'Cheese', 'Eggs', 'Meat', 'Milk', 'Pencil', 'Wine'], ['Bread', 'Diaper', 'Eggs', 'Pencil', 'Wine'], ['Bread', 'Diaper', 'Eggs', 'Pencil', 'Wine'], ['Bread', 'Diaper', 'Eggs', 'Wine'], ['Bread', 'Diaper', 'Eggs', 'Milk', 'Pencil', 'Wine'], ['Cheese', 'Eggs', 'Pencil', 'Wine'], ['Bread', 'Cheese', 'Diaper', 'Eggs', 'Milk', 'Wine'], ['Bagel', 'Cheese', 'Diaper', 'Eggs', 'Meat', 'Pencil', 'Wine'], ['Cheese', 'Eggs', 'Meat', 'Milk', 'Wine'], ['Bagel', 'Bread', 'Diaper', 'Eggs', 'Meat', 'Milk', 'Wine'], ['Bagel', 'Bread', 'Cheese', 'Diaper', 'Eggs', 'Meat'], ['Bread', 'Cheese', 'Eggs', 'Meat', 'Milk', 'Pencil', 'Wine'], ['Bagel', 'Cheese', 'Diaper', 'Eggs', 'Meat'], ['Diaper', 'Eggs', 'Meat', 'Pencil', 'Wine'], ['Cheese', 'Eggs', 'Meat', 'Milk', 'Wine'], ['Bread', 'Cheese', 'Diaper', 'Eggs', 'Meat', 'Milk'], ['Eggs'], ['Bagel', 'Bread', 'Cheese', 'Eggs', 'Milk', 'Pencil', 'Wine'], ['Bagel', 'Eggs'], ['Bagel', 'Bread', 'Cheese', 'Diaper', 'Eggs', 'Milk', 'Wine'], ['Cheese', 'Eggs', 'Meat', 'Milk'], ['Eggs', 'Wine'], ['Cheese', 'Eggs', 'Meat', 'Milk', 'Wine'], ['Cheese', 'Eggs', 'Meat', 'Milk', 'Wine'], ['Cheese', 'Eggs', 'Meat', 'Milk'], ['Cheese', 'Diaper', 'Eggs', 'Milk', 'Pencil', 'Wine'], ['Bread', 'Cheese', 'Diaper', 'Eggs', 'Meat', 'Milk', 'Wine'], ['Diaper', 'Eggs'], ['Cheese', 'Eggs', 'Meat', 'Milk', 'Wine'], ['Cheese', 'Diaper', 'Eggs', 'Pencil', 'Wine'], ['Bread', 'Cheese', 'Diaper', 'Eggs', 'Milk', 'Pencil'], ['Bagel', 'Bread', 'Eggs'], ['Bread', 'Eggs'], ['Diaper', 'Eggs', 'Milk', 'Pencil'], ['Cheese', 'Eggs', 'Meat', 'Milk'], ['Cheese', 'Eggs', 'Meat', 'Milk'], ['Bagel', 'Bread', 'Cheese', 'Diaper', 'Eggs', 'Pencil', 'Wine'], ['Cheese', 'Eggs', 'Meat', 'Milk'], ['Cheese', 'Eggs', 'Meat'], ['Bagel', 'Cheese', 'Eggs', 'Meat', 'Wine'], ['Cheese', 'Eggs', 'Meat', 'Milk'], ['Bagel', 'Cheese', 'Diaper', 'Eggs', 'Meat', 'Pencil', 'Wine'], ['Bagel', 'Cheese', 'Diaper', 'Eggs', 'Meat', 'Milk', 'Wine'], ['Bread', 'Cheese', 'Eggs', 'Milk', 'Pencil', 'Wine'], ['Bagel', 'Cheese', 'Eggs', 'Meat', 'Milk'], ['Cheese', 'Eggs', 'Meat', 'Milk'], ['Diaper', 'Eggs', 'Meat', 'Wine'], ['Bagel', 'Bread', 'Eggs', 'Meat', 'Milk', 'Pencil', 'Wine'], ['Bagel', 'Bread', 'Cheese', 'Eggs', 'Pencil'], ['Bread', 'Cheese', 'Eggs'], ['Bread', 'Cheese', 'Diaper', 'Eggs', 'Meat', 'Pencil', 'Wine'], ['Bagel', 'Bread', 'Eggs', 'Meat', 'Wine']]\n",
      "[['Bread', 'Cheese', 'Diaper', 'Eggs', 'Meat', 'Pencil', 'Wine'], ['Cheese', 'Eggs', 'Meat', 'Milk', 'Wine'], ['Cheese', 'Eggs', 'Meat', 'Milk', 'Wine'], ['Bagel', 'Cheese', 'Diaper', 'Eggs', 'Meat', 'Pencil', 'Wine'], ['Cheese', 'Eggs', 'Meat', 'Milk', 'Wine'], ['Bagel', 'Bread', 'Diaper', 'Eggs', 'Meat', 'Milk', 'Wine'], ['Bagel', 'Bread', 'Cheese', 'Diaper', 'Eggs', 'Meat'], ['Bread', 'Cheese', 'Eggs', 'Meat', 'Milk', 'Pencil', 'Wine'], ['Bagel', 'Cheese', 'Diaper', 'Eggs', 'Meat'], ['Diaper', 'Eggs', 'Meat', 'Pencil', 'Wine'], ['Cheese', 'Eggs', 'Meat', 'Milk', 'Wine'], ['Bread', 'Cheese', 'Diaper', 'Eggs', 'Meat', 'Milk'], ['Cheese', 'Eggs', 'Meat', 'Milk'], ['Cheese', 'Eggs', 'Meat', 'Milk', 'Wine'], ['Cheese', 'Eggs', 'Meat', 'Milk', 'Wine'], ['Cheese', 'Eggs', 'Meat', 'Milk'], ['Bread', 'Cheese', 'Diaper', 'Eggs', 'Meat', 'Milk', 'Wine'], ['Cheese', 'Eggs', 'Meat', 'Milk', 'Wine'], ['Cheese', 'Eggs', 'Meat', 'Milk'], ['Cheese', 'Eggs', 'Meat', 'Milk'], ['Cheese', 'Eggs', 'Meat', 'Milk'], ['Cheese', 'Eggs', 'Meat'], ['Bagel', 'Cheese', 'Eggs', 'Meat', 'Wine'], ['Cheese', 'Eggs', 'Meat', 'Milk'], ['Bagel', 'Cheese', 'Diaper', 'Eggs', 'Meat', 'Pencil', 'Wine'], ['Bagel', 'Cheese', 'Diaper', 'Eggs', 'Meat', 'Milk', 'Wine'], ['Bagel', 'Cheese', 'Eggs', 'Meat', 'Milk'], ['Cheese', 'Eggs', 'Meat', 'Milk'], ['Diaper', 'Eggs', 'Meat', 'Wine'], ['Bagel', 'Bread', 'Eggs', 'Meat', 'Milk', 'Pencil', 'Wine'], ['Bread', 'Cheese', 'Diaper', 'Eggs', 'Meat', 'Pencil', 'Wine'], ['Bagel', 'Bread', 'Eggs', 'Meat', 'Wine'], ['Bread', 'Cheese', 'Eggs', 'Meat', 'Milk', 'Pencil', 'Wine'], ['Bagel', 'Cheese', 'Eggs', 'Meat', 'Milk', 'Pencil', 'Wine'], ['Cheese', 'Eggs', 'Meat', 'Milk'], ['Bagel', 'Cheese', 'Diaper', 'Eggs', 'Meat'], ['Bread', 'Cheese', 'Eggs', 'Meat', 'Milk', 'Pencil', 'Wine'], ['Eggs', 'Meat', 'Pencil'], ['Bagel', 'Bread', 'Cheese', 'Eggs', 'Meat', 'Pencil'], ['Bagel', 'Bread', 'Cheese', 'Eggs', 'Meat', 'Wine'], ['Bread', 'Cheese', 'Eggs', 'Meat', 'Milk', 'Pencil'], ['Bagel', 'Bread', 'Diaper', 'Eggs', 'Meat', 'Milk', 'Pencil'], ['Bagel', 'Bread', 'Cheese', 'Diaper', 'Eggs', 'Meat', 'Wine'], ['Cheese', 'Eggs', 'Meat', 'Milk'], ['Cheese', 'Eggs', 'Meat', 'Pencil', 'Wine'], ['Bread', 'Cheese', 'Eggs', 'Meat', 'Milk', 'Wine'], ['Eggs', 'Meat'], ['Cheese', 'Eggs', 'Meat', 'Milk'], ['Cheese', 'Eggs', 'Meat', 'Milk'], ['Bagel', 'Bread', 'Diaper', 'Eggs', 'Meat', 'Milk', 'Pencil'], ['Bagel', 'Bread', 'Cheese', 'Eggs', 'Meat', 'Milk', 'Pencil'], ['Cheese', 'Eggs', 'Meat', 'Milk'], ['Bagel', 'Eggs', 'Meat', 'Milk', 'Pencil', 'Wine'], ['Bread', 'Eggs', 'Meat', 'Milk', 'Wine'], ['Bread', 'Cheese', 'Eggs', 'Meat', 'Milk', 'Pencil', 'Wine'], ['Bagel', 'Cheese', 'Diaper', 'Eggs', 'Meat', 'Pencil', 'Wine'], ['Cheese', 'Eggs', 'Meat', 'Milk', 'Wine'], ['Bagel', 'Bread', 'Diaper', 'Eggs', 'Meat', 'Milk', 'Wine'], ['Bagel', 'Bread', 'Cheese', 'Diaper', 'Eggs', 'Meat'], ['Bread', 'Cheese', 'Eggs', 'Meat', 'Milk', 'Pencil', 'Wine'], ['Bagel', 'Cheese', 'Diaper', 'Eggs', 'Meat'], ['Diaper', 'Eggs', 'Meat', 'Pencil', 'Wine'], ['Cheese', 'Eggs', 'Meat', 'Milk', 'Wine'], ['Bread', 'Cheese', 'Diaper', 'Eggs', 'Meat', 'Milk'], ['Cheese', 'Eggs', 'Meat', 'Milk'], ['Cheese', 'Eggs', 'Meat', 'Milk', 'Wine'], ['Cheese', 'Eggs', 'Meat', 'Milk', 'Wine'], ['Cheese', 'Eggs', 'Meat', 'Milk'], ['Bread', 'Cheese', 'Diaper', 'Eggs', 'Meat', 'Milk', 'Wine'], ['Cheese', 'Eggs', 'Meat', 'Milk', 'Wine'], ['Cheese', 'Eggs', 'Meat', 'Milk'], ['Cheese', 'Eggs', 'Meat', 'Milk'], ['Cheese', 'Eggs', 'Meat', 'Milk'], ['Cheese', 'Eggs', 'Meat'], ['Bagel', 'Cheese', 'Eggs', 'Meat', 'Wine'], ['Cheese', 'Eggs', 'Meat', 'Milk'], ['Bagel', 'Cheese', 'Diaper', 'Eggs', 'Meat', 'Pencil', 'Wine'], ['Bagel', 'Cheese', 'Diaper', 'Eggs', 'Meat', 'Milk', 'Wine'], ['Bagel', 'Cheese', 'Eggs', 'Meat', 'Milk'], ['Cheese', 'Eggs', 'Meat', 'Milk'], ['Diaper', 'Eggs', 'Meat', 'Wine'], ['Bagel', 'Bread', 'Eggs', 'Meat', 'Milk', 'Pencil', 'Wine'], ['Bread', 'Cheese', 'Diaper', 'Eggs', 'Meat', 'Pencil', 'Wine'], ['Bagel', 'Bread', 'Eggs', 'Meat', 'Wine']]\n"
     ]
    }
   ],
   "source": [
    "def filter_itemsets(products: pd.Series, itemsets: pd.DataFrame):\n",
    "    query = '&'.join([f'{column}==True' for column in products.values])\n",
    "    res = itemsets.query(query)\n",
    "\n",
    "    def val_to_column_name(itemsets: pd.DataFrame):\n",
    "        col_names = itemsets.columns.tolist()\n",
    "        transactions = itemsets.values.tolist()\n",
    "        return [[col_name\n",
    "                for val, col_name in zip(transaction, col_names) if val != False]\n",
    "                    for transaction in transactions]\n",
    "\n",
    "    return res, val_to_column_name(res)\n",
    "\n",
    "print(filter_itemsets(pd.Series(['Eggs']), dbf)[1])\n",
    "print(filter_itemsets(pd.Series(['Eggs', 'Meat']), dbf)[1])"
   ],
   "metadata": {
    "collapsed": false,
    "pycharm": {
     "name": "#%% code\n"
    }
   }
  },
  {
   "cell_type": "markdown",
   "source": [
    "4. Utiliser l’algorithme Apriori pour extraire les règles d’association à partir des itemsets\n",
    "fréquents et des itemsets maximaux. Vous choisirez une confiance minimale de 75%. Extraire\n",
    "les règles ayant pour conséquents ’Chesse’."
   ],
   "metadata": {
    "collapsed": false
   }
  },
  {
   "cell_type": "code",
   "execution_count": 361,
   "outputs": [
    {
     "name": "stdout",
     "output_type": "stream",
     "text": [
      "     support      lift  confidence\n",
      "1   0.215873  1.613924    0.809524\n",
      "2   0.196825  1.605293    0.805195\n",
      "3   0.203175  1.657077    0.831169\n",
      "7   0.152381  1.708861    0.857143\n",
      "10  0.104762  1.530026    0.767442\n",
      "12  0.101587  1.594937    0.800000\n",
      "15  0.073016  1.581187    0.793103\n"
     ]
    }
   ],
   "source": [
    "DFAR = association_rules(DBI[0]['results'],metric=\"confidence\",min_threshold=0.75)\n",
    "DFARF = DFAR[DFAR['consequents'] == {'Cheese'}][['support', 'lift', 'confidence']]\n",
    "print(DFARF)"
   ],
   "metadata": {
    "collapsed": false,
    "pycharm": {
     "name": "#%% code\n"
    }
   }
  },
  {
   "cell_type": "markdown",
   "source": [
    "##### Note\n",
    "La fonction association_rules() renvoie un objet de type pandas.dataframe contenant\n",
    "les différentes règles d’association, chacune décrite par différentes caractéristiques qui sont\n",
    "l’antécédent, le conséquent, et 7 indicateurs numériques d’évaluation des règles. Il faudra adap-\n",
    "ter l’affichage pour disposer que des informations liées aux mesures support, lift et la confidence.\n",
    "\n",
    "5. Compléter l’analyse des différentes règles d’association extraites via des graphiques permet-\n",
    "tant d’étudier la corrélation entre les trois mesures (lift, confiance et support) d’évaluation\n",
    "des règles."
   ],
   "metadata": {
    "collapsed": false,
    "pycharm": {
     "name": "#%% md\n"
    }
   }
  },
  {
   "cell_type": "code",
   "execution_count": 362,
   "outputs": [
    {
     "data": {
      "text/plain": "<seaborn.axisgrid.PairGrid at 0x7f305c410970>"
     },
     "execution_count": 362,
     "metadata": {},
     "output_type": "execute_result"
    },
    {
     "data": {
      "text/plain": "<Figure size 540x540 with 12 Axes>",
      "image/png": "[encoded data removed]"
     },
     "metadata": {
      "needs_background": "light"
     },
     "output_type": "display_data"
    }
   ],
   "source": [
    "sns.pairplot(data = DFARF)"
   ],
   "metadata": {
    "collapsed": false,
    "pycharm": {
     "name": "#%% code\n"
    }
   }
  },
  {
   "cell_type": "markdown",
   "source": [
    "### 3 Références\n",
    "1. [MLxtend : machine learning extensions](http://rasbt.github.io/mlxtend/)\n",
    "2. [Introduction to Market Basket Analysis in Python](https://pbpython.com/market-basket-analysis.html)\n",
    "3. [Association Rule Mining via Apriori Algorithm in Python](https://stackabuse.com/association-rule-mining-via-apriori-algorithm-in-python/)\n",
    "4. [Documentation Pandas](https://pandas.pydata.org/pandas-docs/stable/reference/index.html#api)\n",
    "5. [Documentation MLxtend](http://rasbt.github.io/mlxtend)\n",
    "\n",
    "\n",
    "\n",
    "\n"
   ],
   "metadata": {
    "collapsed": false,
    "pycharm": {
     "name": "#%% md\n"
    }
   }
  }
 ],
 "metadata": {
  "kernelspec": {
   "display_name": "Python 3",
   "language": "python",
   "name": "python3"
  },
  "language_info": {
   "codemirror_mode": {
    "name": "ipython",
    "version": 3
   },
   "file_extension": ".py",
   "mimetype": "text/x-python",
   "name": "python",
   "nbconvert_exporter": "python",
   "pygments_lexer": "ipython3",
   "version": "3.8.5"
  }
 },
 "nbformat": 4,
 "nbformat_minor": 1
}