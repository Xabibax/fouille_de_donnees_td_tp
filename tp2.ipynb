{
 "cells": [
  {
   "cell_type": "markdown",
   "metadata": {
    "collapsed": true,
    "pycharm": {
     "name": "#%% md\n"
    }
   },
   "source": [
    "# TP 2 : Fouille d’itemsets fréquents et de règles d’association sous Python\n",
    "\n",
    "IMT Atlantique – FIL A3  <br/>\n",
    "Apprentissage Automatique  <br/>\n",
    "\n",
    "Élève : Xavier Aleman  <br/>\n",
    "\n",
    "## Objectifs :\n",
    "\n",
    "MLxtend (pour machine learning extensions) est une bibliothèque logicielle développée par Sebastian Raschka, qui propose des méthodes d’extraction d’itemsets fréquents et de règles d’association basée sur Apriori. D’autres algorithmes plus sophistiqués sont aussi proposés.\n",
    "\n",
    "Ce TP se déroule en deux parties : découverte de MLxtend via des exemples simples et application d’algorithmes de fouille d’itemsets sur des données de vente au détail en ligne.\n",
    "\n",
    "### 1 Partie 1 : MLxtend pour la fouille d’itemsets\n",
    "\n",
    "### 1.1 Installation\n",
    "\n",
    "MLxtend est une bibliothèque Python qui implémente différentes méthodes pour l’apprentissage\n",
    "machine. Parmi ces méthodes, on retrouve les algorithmes d’extraction d’itemsets fréquents, de maximaux fréquents et de règles d’association.\n",
    "\n",
    "L’installation de cette bibliothèque se fait via [conda](http://rasbt.github.io/mlxtend/installation/), avec la commande suivante :\n",
    "\n",
    "```bash\n",
    "conda install mlxtend --channel conda-forge\n",
    "```\n",
    "\n",
    "L’utilisation de fonctionnalités de MLxtend commence par l’importation de ces trois librairies :"
   ]
  },
  {
   "cell_type": "code",
   "execution_count": 63,
   "metadata": {
    "pycharm": {
     "name": "#%% code\n"
    }
   },
   "outputs": [],
   "source": [
    "from mlxtend.preprocessing import TransactionEncoder\n",
    "from mlxtend.frequent_patterns import apriori, fpmax, fpgrowth\n",
    "from mlxtend.frequent_patterns import association_rules"
   ]
  },
  {
   "cell_type": "markdown",
   "metadata": {
    "pycharm": {
     "name": "#%% md\n"
    }
   },
   "source": [
    "###1.2 Importation et préparation des données\n",
    "\n",
    "### 1.2.1 Données transactionnelles\n",
    "\n",
    "Considérons, le dataset ci-dessous décrivant les caddies de supermarché."
   ]
  },
  {
   "cell_type": "code",
   "execution_count": 64,
   "metadata": {
    "pycharm": {
     "name": "#%% code\n"
    }
   },
   "outputs": [],
   "source": [
    "dataset = [ ['Milk', 'Onion', 'Nutmeg', 'Kidney Beans', 'Eggs', 'Yogurt'],\n",
    "['Dill', 'Onion', 'Nutmeg', 'Kidney Beans', 'Eggs', 'Yogurt'],\n",
    "['Milk', 'Apple', 'Kidney Beans', 'Eggs'],\n",
    "['Milk', 'Unicorn', 'Corn', 'Kidney Beans', 'Yogurt'],\n",
    "['Corn', 'Onion', 'Onion', 'Kidney Beans', 'Ice cream', 'Eggs'] ]"
   ]
  },
  {
   "cell_type": "markdown",
   "metadata": {
    "pycharm": {
     "name": "#%% md\n"
    }
   },
   "source": [
    "### 1.2.2 Transformation en tableau binaire\n",
    "\n",
    "La méthode apriori de la librairie MLxtend prend en entrée un tableau binaire où sont recensés\n",
    "la présence (codé True) ou l’absence (codée par False) des produits dans chaque caddie.\n",
    "\n",
    "— L’objet TransactionEncoder permet de transformer un ensemble de données en un tableau binaire ;  <br/>\n",
    "— Avec la méthode fit, le TransactionEncoder apprend les étiquettes uniques dans l’ensemble de données, et via la méthode de transformation, il transforme l’ensemble de données d’entrée (une liste de listes) en un tableau de booléens."
   ]
  },
  {
   "cell_type": "code",
   "execution_count": 65,
   "metadata": {
    "pycharm": {
     "name": "#%% code\n"
    }
   },
   "outputs": [],
   "source": [
    "TB = TransactionEncoder()\n",
    "TBA = TB.fit(dataset).transform(dataset)"
   ]
  },
  {
   "cell_type": "markdown",
   "metadata": {
    "pycharm": {
     "name": "#%% md\n"
    }
   },
   "source": [
    "Le résultat de cette étape est un tableau NumPy au format ndarray. Il est possible de transformer ce tableau en un dataframe grâce à Pandas :"
   ]
  },
  {
   "cell_type": "code",
   "execution_count": 66,
   "metadata": {
    "pycharm": {
     "name": "#%% code\n"
    }
   },
   "outputs": [],
   "source": [
    "import pandas as pd\n",
    "df = pd.DataFrame (TBA, columns=TB.columns_)"
   ]
  },
  {
   "cell_type": "markdown",
   "metadata": {
    "pycharm": {
     "name": "#%% md\n"
    }
   },
   "source": [
    "### 1.3 Extraction d’itemsets fréquents et des maximaux\n",
    "\n",
    "Pour extraire les itemsets fréquents il faut appliquer la fonction apriori() au dataframe et fixer la valeur du support minimum (dans notre cas, min support=0.5). Il est aussi possible de contraindre la taille des itemsets retournés avec le paramètre max len."
   ]
  },
  {
   "cell_type": "code",
   "execution_count": 67,
   "metadata": {
    "pycharm": {
     "name": "#%% code\n"
    }
   },
   "outputs": [],
   "source": [
    "FI = apriori(df,min_support=0.5, use_colnames=True)"
   ]
  },
  {
   "cell_type": "markdown",
   "metadata": {
    "pycharm": {
     "name": "#%% md\n"
    }
   },
   "source": [
    "Les résultats sont stockés dans une structure de type ”pandas/DataFrame”."
   ]
  },
  {
   "cell_type": "code",
   "execution_count": 68,
   "metadata": {
    "pycharm": {
     "name": "#%% code\n"
    }
   },
   "outputs": [
    {
     "data": {
      "text/plain": "pandas.core.frame.DataFrame"
     },
     "execution_count": 68,
     "metadata": {},
     "output_type": "execute_result"
    }
   ],
   "source": [
    "type(FI)"
   ]
  },
  {
   "cell_type": "markdown",
   "metadata": {
    "pycharm": {
     "name": "#%% md\n"
    }
   },
   "source": [
    "Elle est composée de 2 colonnes : le support et la description des itemsets."
   ]
  },
  {
   "cell_type": "code",
   "execution_count": 69,
   "metadata": {
    "pycharm": {
     "name": "#%% code\n"
    }
   },
   "outputs": [
    {
     "name": "stdout",
     "output_type": "stream",
     "text": [
      "Index(['support', 'itemsets'], dtype='object')\n"
     ]
    }
   ],
   "source": [
    "print(FI.columns)"
   ]
  },
  {
   "cell_type": "markdown",
   "metadata": {
    "pycharm": {
     "name": "#%% md\n"
    }
   },
   "source": [
    "Pour nos données et avec les paramètres ci-dessus, vous devez obtenir 11 itemsets fréquents suivants."
   ]
  },
  {
   "cell_type": "code",
   "execution_count": 70,
   "metadata": {
    "pycharm": {
     "name": "#%% code\n"
    }
   },
   "outputs": [
    {
     "name": "stdout",
     "output_type": "stream",
     "text": [
      "    support                     itemsets\n",
      "0       0.8                       (Eggs)\n",
      "1       1.0               (Kidney Beans)\n",
      "2       0.6                       (Milk)\n",
      "3       0.6                      (Onion)\n",
      "4       0.6                     (Yogurt)\n",
      "5       0.8         (Eggs, Kidney Beans)\n",
      "6       0.6                (Onion, Eggs)\n",
      "7       0.6         (Milk, Kidney Beans)\n",
      "8       0.6        (Onion, Kidney Beans)\n",
      "9       0.6       (Yogurt, Kidney Beans)\n",
      "10      0.6  (Onion, Eggs, Kidney Beans)\n"
     ]
    }
   ],
   "source": [
    "print(FI)"
   ]
  },
  {
   "cell_type": "markdown",
   "metadata": {
    "pycharm": {
     "name": "#%% md\n"
    }
   },
   "source": [
    "On souhaite à présent mesurer le temps d’exécution d’Apriori pour extraire les itemsets fréquents. Pour cela, nous allons utiliser la fonction magique ipython %timit, qui peut être utilisée pour chronométrer un morceau de code particulier (une seule instruction d’exécution ou une seule méthode).\n",
    "\n",
    "> ##### Note\n",
    ">\n",
    "> Usage, in line mode :\n",
    ">\n",
    "> ``` python\n",
    "> %timeit -n<N> -r<R> [-t|-c] -q -p<P> -o] statement\n",
    "> ```"
   ]
  },
  {
   "cell_type": "code",
   "execution_count": 71,
   "metadata": {
    "pycharm": {
     "name": "#%% code\n"
    }
   },
   "outputs": [
    {
     "name": "stdout",
     "output_type": "stream",
     "text": [
      "4.78 ms ± 894 µs per loop (mean ± std. dev. of 10 runs, 100 loops each)\n"
     ]
    }
   ],
   "source": [
    "%timeit -n 100 -r 10 apriori(df, min_support=0.5)"
   ]
  },
  {
   "cell_type": "markdown",
   "metadata": {
    "pycharm": {
     "name": "#%% md\n"
    }
   },
   "source": [
    "La librairie MLxtend propose d’autres algorithmes sophistiqués pour extraire les itemsets fréquents, comme l’algorithme fpgrowth.\n",
    "\n",
    "##### Question\n",
    "\n",
    "Appliquez l’algorithme fpgrowth pour extraire les itemsets fréquents, puis comparez les temps de calculs avec Apriori. Que pouvez-vous conclure ?"
   ]
  },
  {
   "cell_type": "code",
   "execution_count": 72,
   "outputs": [
    {
     "name": "stdout",
     "output_type": "stream",
     "text": [
      "processing apriori\n",
      "4.37 ms ± 832 µs per loop (mean ± std. dev. of 10 runs, 100 loops each)\n",
      "processing fpgrowth\n",
      "1.28 ms ± 124 µs per loop (mean ± std. dev. of 10 runs, 100 loops each)\n"
     ]
    }
   ],
   "source": [
    "print('processing apriori')\n",
    "%timeit -n 100 -r 10 apriori(df, min_support=0.5)\n",
    "print('processing fpgrowth')\n",
    "%timeit -n 100 -r 10 fpgrowth(df, min_support=0.5)"
   ],
   "metadata": {
    "collapsed": false,
    "pycharm": {
     "name": "#%% code\n"
    }
   }
  },
  {
   "cell_type": "markdown",
   "source": [
    "Pour extraire les itemsets fréquents maximaux, il faut utiliser la fonction fpmax."
   ],
   "metadata": {
    "collapsed": false,
    "pycharm": {
     "name": "#%% md\n"
    }
   }
  },
  {
   "cell_type": "code",
   "execution_count": 73,
   "outputs": [
    {
     "name": "stdout",
     "output_type": "stream",
     "text": [
      "   support                     itemsets\n",
      "0      0.6         (Milk, Kidney Beans)\n",
      "1      0.6  (Onion, Eggs, Kidney Beans)\n",
      "2      0.6       (Yogurt, Kidney Beans)\n"
     ]
    }
   ],
   "source": [
    "MFI = fpmax(df,min_support=0.5, use_colnames=True)\n",
    "print(MFI)"
   ],
   "metadata": {
    "collapsed": false,
    "pycharm": {
     "name": "#%% code\n"
    }
   }
  },
  {
   "cell_type": "markdown",
   "metadata": {
    "pycharm": {
     "name": "#%% md\n"
    }
   },
   "source": [
    "### 1.4Extraction de règles d’association\n",
    "\n",
    "La fonction association rules de MLxtend prend les dataframes des itemsets fréquents produits par les fonctions apriori(), fpgrowth() ou fpmax().\n",
    "\n",
    "Pour limiter le nombres de règles extraites, la fonction permet de spécifier (1) la métrique d’intérêt (paramètre metric) et (2) le seuil correspondant (paramètre min threshold). Les mesures actuellement mises en œuvre sont la confiance (metric = ”confidence”) et le lift (metric = ”lift”).\n",
    "\n",
    "Le code ci-dessous illustre un exemple d’extraction de règles d’association à partir de itemsets fréquents avec un niveau de confidence d’au moins 80% (min threshold=0.8)."
   ]
  },
  {
   "cell_type": "code",
   "execution_count": 74,
   "metadata": {
    "pycharm": {
     "name": "#%% code\n"
    }
   },
   "outputs": [],
   "source": [
    "AR = association_rules(FI,metric=\"confidence\",min_threshold=0.8)"
   ]
  },
  {
   "cell_type": "markdown",
   "metadata": {
    "pycharm": {
     "name": "#%% md\n"
    }
   },
   "source": [
    "##### Question\n",
    "Affichez pour chaque règle l’antécédent et son le conséquent."
   ]
  },
  {
   "cell_type": "code",
   "execution_count": 75,
   "outputs": [
    {
     "name": "stdout",
     "output_type": "stream",
     "text": [
      "             antecedents           consequents\n",
      "0                 (Eggs)        (Kidney Beans)\n",
      "1         (Kidney Beans)                (Eggs)\n",
      "2                (Onion)                (Eggs)\n",
      "3                 (Milk)        (Kidney Beans)\n",
      "4                (Onion)        (Kidney Beans)\n",
      "5               (Yogurt)        (Kidney Beans)\n",
      "6          (Onion, Eggs)        (Kidney Beans)\n",
      "7  (Onion, Kidney Beans)                (Eggs)\n",
      "8                (Onion)  (Eggs, Kidney Beans)\n"
     ]
    }
   ],
   "source": [
    "print(AR[['antecedents', 'consequents']])"
   ],
   "metadata": {
    "collapsed": false,
    "pycharm": {
     "name": "#%% code\n"
    }
   }
  },
  {
   "cell_type": "markdown",
   "source": [
    "### 2 Partie 2 : Application à des données de vente en détail\n",
    "\n",
    "Nous allons maintenant appliquer les différents algorithmes vus précédemment sur des données de vente en détail en ligne issu de la base retail. Le fichier ”retail dataset.csv ” est un fichier au format csv qui se présente sous la forme d’une base transactionnelle ou les transactions représentent des caddies de supermarché : chaque ligne correspond aux noms des produits.\n",
    "\n",
    "### 2.1 Évaluation\n",
    "\n",
    "Vous devez rendre un code python qui tourne sur netbook Jupyter + un mini rapport (format pdf) présentant le travail réalisé, les résultats obtenus et une analyse (intéressante) de ces résultats.\n",
    "\n",
    "### 2.2 Travail à faire\n",
    "\n",
    "1. Charger et transformer les données de façon à ce qu’elles soient reconnues comme des transactions. En pratique on construit un tableau de données binaires.  <br/>\n",
    "Les instructions Python suivantes permettent de charger le jeu de données retail :"
   ],
   "metadata": {
    "collapsed": false,
    "pycharm": {
     "name": "#%% md\n"
    }
   }
  },
  {
   "cell_type": "code",
   "execution_count": 124,
   "metadata": {
    "pycharm": {
     "name": "#%% code\n"
    }
   },
   "outputs": [
    {
     "name": "stdout",
     "output_type": "stream",
     "text": [
      "   Bagel  Bread  Cheese  Diaper   Eggs  Meat   Milk  Pencil  Wine\n",
      "0  False   True    True    True   True  True  False    True  True\n",
      "1  False   True    True    True  False  True   True    True  True\n",
      "2  False  False    True   False   True  True   True   False  True\n",
      "3  False  False    True   False   True  True   True   False  True\n",
      "4  False  False   False   False  False  True  False    True  True\n"
     ]
    }
   ],
   "source": [
    "import pandas as pd\n",
    "db = pd.read_csv('retail_dataset.csv',sep=',',header=0, keep_default_na=False)\n",
    "#print(db.head())\n",
    "import numpy as np\n",
    "db_trans = [[val\n",
    "            for val in transaction if val != '']\n",
    "                for transaction in db.values]\n",
    "#for x in db_trans[0:5]: print(f\"{x}\\n\")\n",
    "\n",
    "TDB = TransactionEncoder()\n",
    "TDBA = TDB.fit(db_trans).transform(db_trans)\n",
    "#print(TDB.columns_)\n",
    "#print(TDBA.head())\n",
    "\n",
    "dbf = pd.DataFrame(TDBA, columns=TDB.columns_)\n",
    "print(dbf.head())"
   ]
  },
  {
   "cell_type": "markdown",
   "metadata": {
    "pycharm": {
     "name": "#%% md\n"
    }
   },
   "source": [
    "$T = \\{t_1 , t_2 , ... , t_m\\}$\n",
    "2. Utiliser l’algorithme Apriori pour extraire les itemsets fréquents et les maximaux. Vous choisirez un support minimum de 3 %.  <br/>\n",
    "— Que se passe t’il si on fait varier le seuil du support ?  <br/>\n",
    "— Tracer une courbe montrant l’évolution du nombre d’itemsets extraits en fonction du support minimum."
   ]
  },
  {
   "cell_type": "code",
   "execution_count": 154,
   "metadata": {
    "pycharm": {
     "name": "#%% code\n"
    }
   },
   "outputs": [
    {
     "name": "stdout",
     "output_type": "stream",
     "text": [
      "      support                                   itemsets\n",
      "0    0.425397                                    (Bagel)\n",
      "1    0.504762                                    (Bread)\n",
      "2    0.501587                                   (Cheese)\n",
      "3    0.406349                                   (Diaper)\n",
      "4    0.438095                                     (Eggs)\n",
      "..        ...                                        ...\n",
      "296  0.073016           (Milk, Cheese, Eggs, Meat, Wine)\n",
      "297  0.044444         (Cheese, Eggs, Meat, Pencil, Wine)\n",
      "298  0.038095         (Milk, Cheese, Eggs, Pencil, Wine)\n",
      "299  0.034921         (Milk, Cheese, Meat, Pencil, Wine)\n",
      "300  0.031746  (Milk, Cheese, Meat, Pencil, Bread, Wine)\n",
      "\n",
      "[301 rows x 2 columns]\n"
     ]
    }
   ],
   "source": [
    "DBAP = apriori(dbf,min_support=0.03, use_colnames=True)\n",
    "print(DBAP)"
   ]
  },
  {
   "cell_type": "code",
   "execution_count": 153,
   "metadata": {
    "pycharm": {
     "name": "#%% code\n"
    }
   },
   "outputs": [
    {
     "name": "stdout",
     "output_type": "stream",
     "text": [
      "    support  nb_of_itemsets\n",
      "0      0.01             422\n",
      "1      0.02             360\n",
      "2      0.03             301\n",
      "3      0.04             254\n",
      "4      0.05             209\n",
      "..      ...             ...\n",
      "94     0.95               0\n",
      "95     0.96               0\n",
      "96     0.97               0\n",
      "97     0.98               0\n",
      "98     0.99               0\n",
      "\n",
      "[99 rows x 2 columns]\n"
     ]
    }
   ],
   "source": [
    "## Que se passe t’il si on fait varier le seuil du support ?\n",
    "DBIS = [{'support': i,\n",
    "        'results' :apriori(dbf,min_support=i, use_colnames=True)}\n",
    "            for i in np.arange(0.01, 1.0, 0.01) ]\n",
    "print(pd.DataFrame(data= {\n",
    "    'support': [x['support'] for x in DBIS],\n",
    "    'nb_of_itemsets': [len(x['results']) for x in DBIS]\n",
    "}))\n"
   ]
  },
  {
   "cell_type": "code",
   "execution_count": 152,
   "metadata": {
    "pycharm": {
     "name": "#%% code\n"
    }
   },
   "outputs": [
    {
     "data": {
      "text/plain": "<AxesSubplot:xlabel='min_support', ylabel='nb_of_itemsets'>"
     },
     "execution_count": 152,
     "metadata": {},
     "output_type": "execute_result"
    },
    {
     "data": {
      "text/plain": "<Figure size 432x288 with 1 Axes>",
      "image/png": "[encoded data removed]"
     },
     "metadata": {
      "needs_background": "light"
     },
     "output_type": "display_data"
    }
   ],
   "source": [
    "## Tracer une courbe montrant l’évolution du nombre de itemsets extraits en fonction du support minimum.\n",
    "dataset2 = pd.DataFrame(data= {\n",
    "    'min_support': [x['support'] for x in DBIS ],\n",
    "    'nb_of_itemsets': [len(x['results']) for x in DBIS ]})\n",
    "\n",
    "import seaborn as sns\n",
    "sns.lineplot(data=dataset2 ,x='min_support', y=\"nb_of_itemsets\")"
   ]
  },
  {
   "cell_type": "markdown",
   "metadata": {
    "pycharm": {
     "name": "#%% md\n"
    }
   },
   "source": [
    "3. Nous souhaitons pouvoir filtrer les itemsets selon la présence d’items ou d’un ensemble d’items.  <br/>\n",
    "Par exemple, quels sont les itemsets qui contiennent le produit ’Eggs’ ? les produits {’Eggs’,’Meat’} ?\n",
    "\n",
    "> ##### Note\n",
    "> Plusieurs solutions s’offrent à vous pour la recherche d’itemsets répondant à des conditions de présence d’items.  <br/>\n",
    "> Vous pouvez par exemple utiliser les opérateurs de comparaison de [pandas.Series](https://pandas.pydata.org/pandas-docs/stable/reference/series.html)."
   ]
  },
  {
   "cell_type": "code",
   "execution_count": 80,
   "metadata": {
    "pycharm": {
     "name": "#%% code\n"
    }
   },
   "outputs": [],
   "source": [
    "def val_to_column_name(itemsets: pd.DataFrame):\n",
    "    col_names = itemsets.columns.tolist()\n",
    "    transactions = itemsets.values.tolist()\n",
    "\n",
    "    return [[col_name\n",
    "            for val, col_name in zip(transaction, col_names) if val != False]\n",
    "                for transaction in transactions]\n",
    "\n",
    "def filter_itemsets(products: list, itemsets: pd.DataFrame):\n",
    "    query = '&'.join([f'{column}==True' for column in set(products)])\n",
    "    res = itemsets.query(query)\n",
    "\n",
    "    return res, val_to_column_name(res)\n",
    "\n",
    "itemsets_with_eggs = filter_itemsets(['Eggs'], dbf)[1]\n",
    "itemsets_with_eggs_and_meat = filter_itemsets(['Eggs', 'Meat'], dbf)[1]"
   ]
  },
  {
   "cell_type": "code",
   "execution_count": 81,
   "outputs": [
    {
     "name": "stdout",
     "output_type": "stream",
     "text": [
      "Itemsets with eggs : 138\n",
      "['Bread', 'Cheese', 'Diaper', 'Eggs', 'Meat', 'Pencil', 'Wine']\n",
      "['Cheese', 'Eggs', 'Meat', 'Milk', 'Wine']\n",
      "['Cheese', 'Eggs', 'Meat', 'Milk', 'Wine']\n",
      "...\n",
      "['Bread', 'Cheese', 'Eggs']\n",
      "['Bread', 'Cheese', 'Diaper', 'Eggs', 'Meat', 'Pencil', 'Wine']\n",
      "['Bagel', 'Bread', 'Eggs', 'Meat', 'Wine']\n"
     ]
    }
   ],
   "source": [
    "print(f\"Number of itemsets with eggs : {len(itemsets_with_eggs)}\")\n",
    "for x in itemsets_with_eggs[0:3]: print(x)\n",
    "print(\"...\")\n",
    "for x in itemsets_with_eggs[-3:]: print(x)"
   ],
   "metadata": {
    "collapsed": false,
    "pycharm": {
     "name": "#%% code\n"
    }
   }
  },
  {
   "cell_type": "code",
   "execution_count": 86,
   "outputs": [
    {
     "name": "stdout",
     "output_type": "stream",
     "text": [
      "Number of itemsets with eggs and meat : 84\n",
      "['Bread', 'Cheese', 'Diaper', 'Eggs', 'Meat', 'Pencil', 'Wine']\n",
      "['Cheese', 'Eggs', 'Meat', 'Milk', 'Wine']\n",
      "['Cheese', 'Eggs', 'Meat', 'Milk', 'Wine']\n",
      "...\n",
      "['Bagel', 'Bread', 'Eggs', 'Meat', 'Milk', 'Pencil', 'Wine']\n",
      "['Bread', 'Cheese', 'Diaper', 'Eggs', 'Meat', 'Pencil', 'Wine']\n",
      "['Bagel', 'Bread', 'Eggs', 'Meat', 'Wine']\n"
     ]
    }
   ],
   "source": [
    "print(f\"Number of itemsets with eggs and meat : {len(itemsets_with_eggs_and_meat)}\")\n",
    "for x in itemsets_with_eggs_and_meat[0:3]: print(x)\n",
    "print(\"...\")\n",
    "for x in itemsets_with_eggs_and_meat[-3:]: print(x)"
   ],
   "metadata": {
    "collapsed": false,
    "pycharm": {
     "name": "#%% code\n"
    }
   }
  },
  {
   "cell_type": "markdown",
   "metadata": {},
   "source": [
    "4. Utiliser l’algorithme Apriori pour extraire les règles d’association à partir des itemsets fréquents et des itemsets maximaux. Vous choisirez une confiance minimale de 75 %.  <br/>\n",
    "Extraire les règles ayant pour conséquents ’Chesse’.\n",
    "\n",
    "> ##### Note\n",
    "> La fonction association_rules() renvoie un objet de type pandas.dataframe contenant les différentes règles d’association, chacune décrite par différentes caractéristiques qui sont l’antécédent, le conséquent, et 7 indicateurs numériques d’évaluation des règles.  <br/>\n",
    "> Il faudra adapter l’affichage pour disposer que des informations liées aux mesures support, lift et la confidence."
   ]
  },
  {
   "cell_type": "code",
   "execution_count": 164,
   "metadata": {
    "pycharm": {
     "name": "#%% code\n"
    }
   },
   "outputs": [
    {
     "name": "stdout",
     "output_type": "stream",
     "text": [
      "                      antecedents consequents   support      lift  confidence\n",
      "1                    (Meat, Eggs)    (Cheese)  0.215873  1.613924    0.809524\n",
      "2                    (Milk, Eggs)    (Cheese)  0.196825  1.605293    0.805195\n",
      "3                    (Milk, Meat)    (Cheese)  0.203175  1.657077    0.831169\n",
      "10             (Milk, Meat, Eggs)    (Cheese)  0.152381  1.708861    0.857143\n",
      "11             (Milk, Eggs, Wine)    (Cheese)  0.104762  1.530026    0.767442\n",
      "13             (Milk, Meat, Wine)    (Cheese)  0.101587  1.594937    0.800000\n",
      "18    (Meat, Eggs, Diaper, Bagel)    (Cheese)  0.038095  1.495253    0.750000\n",
      "20  (Pencil, Wine, Diaper, Bagel)    (Cheese)  0.031746  1.533593    0.769231\n",
      "31       (Milk, Meat, Eggs, Wine)    (Cheese)  0.073016  1.581187    0.793103\n"
     ]
    }
   ],
   "source": [
    "DFAP = apriori(dbf, min_support=0.03, use_colnames=True)\n",
    "#print(DFAP)\n",
    "\n",
    "DFAPAR = association_rules(DFAP,metric=\"confidence\",min_threshold=0.75)\n",
    "#print(DFAPAR)\n",
    "\n",
    "DFAPAR = DFAPAR[DFAPAR['consequents'] == {'Cheese'}][['antecedents', 'consequents','support', 'lift', 'confidence']]\n",
    "print(DFAPAR)"
   ]
  },
  {
   "cell_type": "markdown",
   "metadata": {
    "pycharm": {
     "name": "#%% md\n"
    }
   },
   "source": [
    "5. Compléter l’analyse des différentes règles d’association extraites via des graphiques permettant d’étudier la corrélation entre les trois mesures (lift, confiance et support) d’évaluation des règles."
   ]
  },
  {
   "cell_type": "code",
   "execution_count": 84,
   "metadata": {
    "pycharm": {
     "name": "#%% code\n"
    }
   },
   "outputs": [
    {
     "data": {
      "text/plain": "<seaborn.axisgrid.PairGrid at 0x7fc070152c10>"
     },
     "execution_count": 84,
     "metadata": {},
     "output_type": "execute_result"
    },
    {
     "data": {
      "text/plain": "<Figure size 540x540 with 12 Axes>",
      "image/png": "[encoded data removed]"
     },
     "metadata": {
      "needs_background": "light"
     },
     "output_type": "display_data"
    }
   ],
   "source": [
    "sns.pairplot(data = DFAPAR)"
   ]
  },
  {
   "cell_type": "markdown",
   "metadata": {
    "pycharm": {
     "name": "#%% md\n"
    }
   },
   "source": [
    "### 3 Références\n",
    "1. [MLxtend : machine learning extensions](http://rasbt.github.io/mlxtend/)\n",
    "2. [Introduction to Market Basket Analysis in Python](https://pbpython.com/market-basket-analysis.html)\n",
    "3. [Association Rule Mining via Apriori Algorithm in Python](https://stackabuse.com/association-rule-mining-via-apriori-algorithm-in-python/)\n",
    "4. [Documentation Pandas](https://pandas.pydata.org/pandas-docs/stable/reference/index.html#api)\n",
    "5. [Documentation MLxtend](http://rasbt.github.io/mlxtend)\n",
    "\n",
    "\n",
    "\n",
    "\n"
   ]
  }
 ],
 "metadata": {
  "kernelspec": {
   "display_name": "Python 3",
   "language": "python",
   "name": "python3"
  },
  "language_info": {
   "codemirror_mode": {
    "name": "ipython",
    "version": 3
   },
   "file_extension": ".py",
   "mimetype": "text/x-python",
   "name": "python",
   "nbconvert_exporter": "python",
   "pygments_lexer": "ipython3",
   "version": "3.8.5"
  }
 },
 "nbformat": 4,
 "nbformat_minor": 1
}